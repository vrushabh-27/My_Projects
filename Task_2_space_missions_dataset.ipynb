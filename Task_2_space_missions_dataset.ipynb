{
 "cells": [
  {
   "cell_type": "markdown",
   "id": "4fbcc631",
   "metadata": {},
   "source": [
    "# Space Missions:"
   ]
  },
  {
   "cell_type": "code",
   "execution_count": 1,
   "id": "22bb078c",
   "metadata": {},
   "outputs": [],
   "source": [
    "# Importing the libraries\n",
    "import numpy as np\n",
    "import pandas as pd\n",
    "import matplotlib.pyplot as plt\n",
    "import seaborn as sns\n",
    "%matplotlib inline\n",
    "import warnings\n",
    "warnings.filterwarnings('ignore')"
   ]
  },
  {
   "cell_type": "code",
   "execution_count": 2,
   "id": "c599ad6f",
   "metadata": {},
   "outputs": [],
   "source": [
    "# Importing the Dataset\n",
    "data = pd.read_excel(r\"C:\\Users\\Admin\\Downloads\\SpaceMissions (1).xlsx\")"
   ]
  },
  {
   "cell_type": "code",
   "execution_count": 3,
   "id": "2dcab4e7",
   "metadata": {},
   "outputs": [
    {
     "data": {
      "text/plain": [
       "(150, 18)"
      ]
     },
     "execution_count": 3,
     "metadata": {},
     "output_type": "execute_result"
    }
   ],
   "source": [
    "data.shape"
   ]
  },
  {
   "cell_type": "code",
   "execution_count": 4,
   "id": "2f256030",
   "metadata": {},
   "outputs": [
    {
     "data": {
      "text/html": [
       "<div>\n",
       "<style scoped>\n",
       "    .dataframe tbody tr th:only-of-type {\n",
       "        vertical-align: middle;\n",
       "    }\n",
       "\n",
       "    .dataframe tbody tr th {\n",
       "        vertical-align: top;\n",
       "    }\n",
       "\n",
       "    .dataframe thead th {\n",
       "        text-align: right;\n",
       "    }\n",
       "</style>\n",
       "<table border=\"1\" class=\"dataframe\">\n",
       "  <thead>\n",
       "    <tr style=\"text-align: right;\">\n",
       "      <th></th>\n",
       "      <th>Company</th>\n",
       "      <th>Launch Date</th>\n",
       "      <th>Launch Time</th>\n",
       "      <th>Launch Site</th>\n",
       "      <th>Temperature (Â° F)</th>\n",
       "      <th>Wind speed (MPH)</th>\n",
       "      <th>Humidity (%)</th>\n",
       "      <th>Vehicle Type</th>\n",
       "      <th>Liftoff Thrust (kN)</th>\n",
       "      <th>Payload to Orbit (kg)</th>\n",
       "      <th>Rocket Height (m)</th>\n",
       "      <th>Fairing Diameter (m)</th>\n",
       "      <th>Payload Name</th>\n",
       "      <th>Payload Type</th>\n",
       "      <th>Payload Mass (kg)</th>\n",
       "      <th>Payload Orbit</th>\n",
       "      <th>Mission Status</th>\n",
       "      <th>Failure Reason</th>\n",
       "    </tr>\n",
       "  </thead>\n",
       "  <tbody>\n",
       "    <tr>\n",
       "      <th>0</th>\n",
       "      <td>SpaceX</td>\n",
       "      <td>2006-03-24</td>\n",
       "      <td>22:30:00</td>\n",
       "      <td>Marshall Islands</td>\n",
       "      <td>86.0</td>\n",
       "      <td>9.0</td>\n",
       "      <td>74.0</td>\n",
       "      <td>Falcon 1</td>\n",
       "      <td>343</td>\n",
       "      <td>470</td>\n",
       "      <td>22.25</td>\n",
       "      <td>1.5</td>\n",
       "      <td>FalconSAT-2</td>\n",
       "      <td>Research Satellite</td>\n",
       "      <td>19.5</td>\n",
       "      <td>Low Earth Orbit</td>\n",
       "      <td>Failure</td>\n",
       "      <td>Engine Fire During Launch</td>\n",
       "    </tr>\n",
       "    <tr>\n",
       "      <th>1</th>\n",
       "      <td>SpaceX</td>\n",
       "      <td>2007-03-21</td>\n",
       "      <td>01:10:00</td>\n",
       "      <td>Marshall Islands</td>\n",
       "      <td>NaN</td>\n",
       "      <td>NaN</td>\n",
       "      <td>NaN</td>\n",
       "      <td>Falcon 1</td>\n",
       "      <td>343</td>\n",
       "      <td>470</td>\n",
       "      <td>22.25</td>\n",
       "      <td>1.5</td>\n",
       "      <td>DemoSat</td>\n",
       "      <td>Mass simulator</td>\n",
       "      <td>NaN</td>\n",
       "      <td>Low Earth Orbit</td>\n",
       "      <td>Failure</td>\n",
       "      <td>Engine Shutdown During Launch</td>\n",
       "    </tr>\n",
       "    <tr>\n",
       "      <th>2</th>\n",
       "      <td>SpaceX</td>\n",
       "      <td>2008-08-03</td>\n",
       "      <td>03:34:00</td>\n",
       "      <td>Marshall Islands</td>\n",
       "      <td>NaN</td>\n",
       "      <td>NaN</td>\n",
       "      <td>NaN</td>\n",
       "      <td>Falcon 1</td>\n",
       "      <td>343</td>\n",
       "      <td>470</td>\n",
       "      <td>22.25</td>\n",
       "      <td>1.5</td>\n",
       "      <td>Trailblazer</td>\n",
       "      <td>Communication Satellite</td>\n",
       "      <td>NaN</td>\n",
       "      <td>Low Earth Orbit</td>\n",
       "      <td>Failure</td>\n",
       "      <td>Collision During Launch</td>\n",
       "    </tr>\n",
       "    <tr>\n",
       "      <th>3</th>\n",
       "      <td>SpaceX</td>\n",
       "      <td>2008-08-03</td>\n",
       "      <td>03:34:00</td>\n",
       "      <td>Marshall Islands</td>\n",
       "      <td>NaN</td>\n",
       "      <td>NaN</td>\n",
       "      <td>NaN</td>\n",
       "      <td>Falcon 1</td>\n",
       "      <td>343</td>\n",
       "      <td>470</td>\n",
       "      <td>22.25</td>\n",
       "      <td>1.5</td>\n",
       "      <td>PRESat, NanoSail-D</td>\n",
       "      <td>Research Satellites</td>\n",
       "      <td>8</td>\n",
       "      <td>Low Earth Orbit</td>\n",
       "      <td>Failure</td>\n",
       "      <td>Collision During Launch</td>\n",
       "    </tr>\n",
       "    <tr>\n",
       "      <th>4</th>\n",
       "      <td>SpaceX</td>\n",
       "      <td>2008-08-03</td>\n",
       "      <td>03:34:00</td>\n",
       "      <td>Marshall Islands</td>\n",
       "      <td>NaN</td>\n",
       "      <td>NaN</td>\n",
       "      <td>NaN</td>\n",
       "      <td>Falcon 1</td>\n",
       "      <td>343</td>\n",
       "      <td>470</td>\n",
       "      <td>22.25</td>\n",
       "      <td>1.5</td>\n",
       "      <td>Explorers</td>\n",
       "      <td>Human Remains</td>\n",
       "      <td>NaN</td>\n",
       "      <td>Low Earth Orbit</td>\n",
       "      <td>Failure</td>\n",
       "      <td>Collision During Launch</td>\n",
       "    </tr>\n",
       "  </tbody>\n",
       "</table>\n",
       "</div>"
      ],
      "text/plain": [
       "  Company Launch Date Launch Time       Launch Site  Temperature (Â° F)  \\\n",
       "0  SpaceX  2006-03-24    22:30:00  Marshall Islands                86.0   \n",
       "1  SpaceX  2007-03-21    01:10:00  Marshall Islands                 NaN   \n",
       "2  SpaceX  2008-08-03    03:34:00  Marshall Islands                 NaN   \n",
       "3  SpaceX  2008-08-03    03:34:00  Marshall Islands                 NaN   \n",
       "4  SpaceX  2008-08-03    03:34:00  Marshall Islands                 NaN   \n",
       "\n",
       "   Wind speed (MPH)  Humidity (%) Vehicle Type  Liftoff Thrust (kN)  \\\n",
       "0               9.0          74.0     Falcon 1                  343   \n",
       "1               NaN           NaN     Falcon 1                  343   \n",
       "2               NaN           NaN     Falcon 1                  343   \n",
       "3               NaN           NaN     Falcon 1                  343   \n",
       "4               NaN           NaN     Falcon 1                  343   \n",
       "\n",
       "   Payload to Orbit (kg)  Rocket Height (m)  Fairing Diameter (m)  \\\n",
       "0                    470              22.25                   1.5   \n",
       "1                    470              22.25                   1.5   \n",
       "2                    470              22.25                   1.5   \n",
       "3                    470              22.25                   1.5   \n",
       "4                    470              22.25                   1.5   \n",
       "\n",
       "         Payload Name             Payload Type Payload Mass (kg)  \\\n",
       "0         FalconSAT-2       Research Satellite              19.5   \n",
       "1             DemoSat           Mass simulator               NaN   \n",
       "2         Trailblazer  Communication Satellite               NaN   \n",
       "3  PRESat, NanoSail-D      Research Satellites                 8   \n",
       "4           Explorers            Human Remains               NaN   \n",
       "\n",
       "     Payload Orbit Mission Status                 Failure Reason  \n",
       "0  Low Earth Orbit        Failure      Engine Fire During Launch  \n",
       "1  Low Earth Orbit        Failure  Engine Shutdown During Launch  \n",
       "2  Low Earth Orbit        Failure        Collision During Launch  \n",
       "3  Low Earth Orbit        Failure        Collision During Launch  \n",
       "4  Low Earth Orbit        Failure        Collision During Launch  "
      ]
     },
     "execution_count": 4,
     "metadata": {},
     "output_type": "execute_result"
    }
   ],
   "source": [
    "data.head()"
   ]
  },
  {
   "cell_type": "code",
   "execution_count": 5,
   "id": "3820bca5",
   "metadata": {},
   "outputs": [
    {
     "data": {
      "text/html": [
       "<div>\n",
       "<style scoped>\n",
       "    .dataframe tbody tr th:only-of-type {\n",
       "        vertical-align: middle;\n",
       "    }\n",
       "\n",
       "    .dataframe tbody tr th {\n",
       "        vertical-align: top;\n",
       "    }\n",
       "\n",
       "    .dataframe thead th {\n",
       "        text-align: right;\n",
       "    }\n",
       "</style>\n",
       "<table border=\"1\" class=\"dataframe\">\n",
       "  <thead>\n",
       "    <tr style=\"text-align: right;\">\n",
       "      <th></th>\n",
       "      <th>Company</th>\n",
       "      <th>Temperature (Â° F)</th>\n",
       "      <th>Wind speed (MPH)</th>\n",
       "      <th>Humidity (%)</th>\n",
       "      <th>Vehicle Type</th>\n",
       "      <th>Liftoff Thrust (kN)</th>\n",
       "      <th>Payload to Orbit (kg)</th>\n",
       "      <th>Rocket Height (m)</th>\n",
       "      <th>Fairing Diameter (m)</th>\n",
       "      <th>Payload Name</th>\n",
       "      <th>Payload Type</th>\n",
       "      <th>Payload Mass (kg)</th>\n",
       "      <th>Payload Orbit</th>\n",
       "      <th>Mission Status</th>\n",
       "      <th>Failure Reason</th>\n",
       "    </tr>\n",
       "  </thead>\n",
       "  <tbody>\n",
       "    <tr>\n",
       "      <th>0</th>\n",
       "      <td>SpaceX</td>\n",
       "      <td>86.0</td>\n",
       "      <td>9.0</td>\n",
       "      <td>74.0</td>\n",
       "      <td>Falcon 1</td>\n",
       "      <td>343</td>\n",
       "      <td>470</td>\n",
       "      <td>22.25</td>\n",
       "      <td>1.5</td>\n",
       "      <td>FalconSAT-2</td>\n",
       "      <td>Research Satellite</td>\n",
       "      <td>19.5</td>\n",
       "      <td>Low Earth Orbit</td>\n",
       "      <td>Failure</td>\n",
       "      <td>Engine Fire During Launch</td>\n",
       "    </tr>\n",
       "    <tr>\n",
       "      <th>1</th>\n",
       "      <td>SpaceX</td>\n",
       "      <td>NaN</td>\n",
       "      <td>NaN</td>\n",
       "      <td>NaN</td>\n",
       "      <td>Falcon 1</td>\n",
       "      <td>343</td>\n",
       "      <td>470</td>\n",
       "      <td>22.25</td>\n",
       "      <td>1.5</td>\n",
       "      <td>DemoSat</td>\n",
       "      <td>Mass simulator</td>\n",
       "      <td>NaN</td>\n",
       "      <td>Low Earth Orbit</td>\n",
       "      <td>Failure</td>\n",
       "      <td>Engine Shutdown During Launch</td>\n",
       "    </tr>\n",
       "    <tr>\n",
       "      <th>2</th>\n",
       "      <td>SpaceX</td>\n",
       "      <td>NaN</td>\n",
       "      <td>NaN</td>\n",
       "      <td>NaN</td>\n",
       "      <td>Falcon 1</td>\n",
       "      <td>343</td>\n",
       "      <td>470</td>\n",
       "      <td>22.25</td>\n",
       "      <td>1.5</td>\n",
       "      <td>Trailblazer</td>\n",
       "      <td>Communication Satellite</td>\n",
       "      <td>NaN</td>\n",
       "      <td>Low Earth Orbit</td>\n",
       "      <td>Failure</td>\n",
       "      <td>Collision During Launch</td>\n",
       "    </tr>\n",
       "    <tr>\n",
       "      <th>3</th>\n",
       "      <td>SpaceX</td>\n",
       "      <td>NaN</td>\n",
       "      <td>NaN</td>\n",
       "      <td>NaN</td>\n",
       "      <td>Falcon 1</td>\n",
       "      <td>343</td>\n",
       "      <td>470</td>\n",
       "      <td>22.25</td>\n",
       "      <td>1.5</td>\n",
       "      <td>PRESat, NanoSail-D</td>\n",
       "      <td>Research Satellites</td>\n",
       "      <td>8</td>\n",
       "      <td>Low Earth Orbit</td>\n",
       "      <td>Failure</td>\n",
       "      <td>Collision During Launch</td>\n",
       "    </tr>\n",
       "    <tr>\n",
       "      <th>4</th>\n",
       "      <td>SpaceX</td>\n",
       "      <td>NaN</td>\n",
       "      <td>NaN</td>\n",
       "      <td>NaN</td>\n",
       "      <td>Falcon 1</td>\n",
       "      <td>343</td>\n",
       "      <td>470</td>\n",
       "      <td>22.25</td>\n",
       "      <td>1.5</td>\n",
       "      <td>Explorers</td>\n",
       "      <td>Human Remains</td>\n",
       "      <td>NaN</td>\n",
       "      <td>Low Earth Orbit</td>\n",
       "      <td>Failure</td>\n",
       "      <td>Collision During Launch</td>\n",
       "    </tr>\n",
       "  </tbody>\n",
       "</table>\n",
       "</div>"
      ],
      "text/plain": [
       "  Company  Temperature (Â° F)  Wind speed (MPH)  Humidity (%) Vehicle Type  \\\n",
       "0  SpaceX                86.0               9.0          74.0     Falcon 1   \n",
       "1  SpaceX                 NaN               NaN           NaN     Falcon 1   \n",
       "2  SpaceX                 NaN               NaN           NaN     Falcon 1   \n",
       "3  SpaceX                 NaN               NaN           NaN     Falcon 1   \n",
       "4  SpaceX                 NaN               NaN           NaN     Falcon 1   \n",
       "\n",
       "   Liftoff Thrust (kN)  Payload to Orbit (kg)  Rocket Height (m)  \\\n",
       "0                  343                    470              22.25   \n",
       "1                  343                    470              22.25   \n",
       "2                  343                    470              22.25   \n",
       "3                  343                    470              22.25   \n",
       "4                  343                    470              22.25   \n",
       "\n",
       "   Fairing Diameter (m)        Payload Name             Payload Type  \\\n",
       "0                   1.5         FalconSAT-2       Research Satellite   \n",
       "1                   1.5             DemoSat           Mass simulator   \n",
       "2                   1.5         Trailblazer  Communication Satellite   \n",
       "3                   1.5  PRESat, NanoSail-D      Research Satellites   \n",
       "4                   1.5           Explorers            Human Remains   \n",
       "\n",
       "  Payload Mass (kg)    Payload Orbit Mission Status  \\\n",
       "0              19.5  Low Earth Orbit        Failure   \n",
       "1               NaN  Low Earth Orbit        Failure   \n",
       "2               NaN  Low Earth Orbit        Failure   \n",
       "3                 8  Low Earth Orbit        Failure   \n",
       "4               NaN  Low Earth Orbit        Failure   \n",
       "\n",
       "                  Failure Reason  \n",
       "0      Engine Fire During Launch  \n",
       "1  Engine Shutdown During Launch  \n",
       "2        Collision During Launch  \n",
       "3        Collision During Launch  \n",
       "4        Collision During Launch  "
      ]
     },
     "execution_count": 5,
     "metadata": {},
     "output_type": "execute_result"
    }
   ],
   "source": [
    "df = data.drop(['Launch Date','Launch Time', 'Launch Site'],axis=1)\n",
    "df.head()"
   ]
  },
  {
   "cell_type": "code",
   "execution_count": 6,
   "id": "c10ea379",
   "metadata": {},
   "outputs": [
    {
     "data": {
      "text/plain": [
       "Company                  False\n",
       "Temperature (Â° F)        True\n",
       "Wind speed (MPH)          True\n",
       "Humidity (%)              True\n",
       "Vehicle Type             False\n",
       "Liftoff Thrust (kN)      False\n",
       "Payload to Orbit (kg)    False\n",
       "Rocket Height (m)        False\n",
       "Fairing Diameter (m)      True\n",
       "Payload Name             False\n",
       "Payload Type              True\n",
       "Payload Mass (kg)         True\n",
       "Payload Orbit            False\n",
       "Mission Status           False\n",
       "Failure Reason            True\n",
       "dtype: bool"
      ]
     },
     "execution_count": 6,
     "metadata": {},
     "output_type": "execute_result"
    }
   ],
   "source": [
    "df.isnull().any()"
   ]
  },
  {
   "cell_type": "code",
   "execution_count": 7,
   "id": "3b30109d",
   "metadata": {},
   "outputs": [
    {
     "data": {
      "text/plain": [
       "Text(0.5, 1.0, 'No. of satellite launched by each company')"
      ]
     },
     "execution_count": 7,
     "metadata": {},
     "output_type": "execute_result"
    },
    {
     "data": {
      "image/png": "[encoded data removed]",
      "text/plain": [
       "<Figure size 1080x720 with 1 Axes>"
      ]
     },
     "metadata": {
      "needs_background": "light"
     },
     "output_type": "display_data"
    }
   ],
   "source": [
    "plt.figure(figsize=(15,10))\n",
    "ax = sns.countplot(df['Company'])\n",
    "for container in ax.containers:\n",
    "    ax.bar_label(container)\n",
    "plt.ylabel('No. of satellites launched')\n",
    "plt.title('No. of satellite launched by each company')"
   ]
  },
  {
   "cell_type": "code",
   "execution_count": 8,
   "id": "0171f85b",
   "metadata": {},
   "outputs": [
    {
     "data": {
      "text/plain": [
       "Text(0.5, 1.0, 'Mission Status')"
      ]
     },
     "execution_count": 8,
     "metadata": {},
     "output_type": "execute_result"
    },
    {
     "data": {
      "image/png": "[encoded data removed]",
      "text/plain": [
       "<Figure size 432x288 with 1 Axes>"
      ]
     },
     "metadata": {
      "needs_background": "light"
     },
     "output_type": "display_data"
    }
   ],
   "source": [
    "# Mission Status for total satellite launched\n",
    "ax = sns.countplot(df['Mission Status'])\n",
    "for container in ax.containers:\n",
    "    ax.bar_label(container)\n",
    "plt.ylabel('No. of satellites launched')\n",
    "plt.title('Mission Status')"
   ]
  },
  {
   "cell_type": "code",
   "execution_count": 9,
   "id": "77871645",
   "metadata": {},
   "outputs": [
    {
     "name": "stdout",
     "output_type": "stream",
     "text": [
      "Mission status of SpaceX:\n",
      " Success    88\n",
      "Failure     8\n",
      "Name: Mission Status, dtype: int64\n",
      "Mission status of Boeing:\n",
      " Success    32\n",
      "Failure     5\n",
      "Name: Mission Status, dtype: int64\n",
      "Mission status of Martin Marietta:\n",
      " Failure    1\n",
      "Name: Mission Status, dtype: int64\n",
      "Mission status of US Air Force:\n",
      " Failure    7\n",
      "Name: Mission Status, dtype: int64\n",
      "Mission status of European Space Agency:\n",
      " Failure    2\n",
      "Name: Mission Status, dtype: int64\n",
      "Mission status of Brazilian Space Agency:\n",
      " Failure    3\n",
      "Name: Mission Status, dtype: int64\n",
      "Mission status of Arianespace:\n",
      " Failure    4\n",
      "Name: Mission Status, dtype: int64\n"
     ]
    }
   ],
   "source": [
    "# Mission status for each company\n",
    "\n",
    "print('Mission status of SpaceX:\\n',df['Mission Status'][df['Company']=='SpaceX'].value_counts())\n",
    "\n",
    "print('Mission status of Boeing:\\n',df['Mission Status'][df['Company']=='Boeing'].value_counts())\n",
    "\n",
    "print('Mission status of Martin Marietta:\\n',df['Mission Status'][df['Company']=='Martin Marietta'].value_counts())\n",
    "\n",
    "print('Mission status of US Air Force:\\n',df['Mission Status'][df['Company']=='US Air Force'].value_counts())\n",
    "\n",
    "print('Mission status of European Space Agency:\\n',df['Mission Status'][df['Company']=='European Space Agency'].value_counts())\n",
    "\n",
    "print('Mission status of Brazilian Space Agency:\\n',df['Mission Status'][df['Company']=='Brazilian Space Agency'].value_counts())\n",
    "\n",
    "print('Mission status of Arianespace:\\n',df['Mission Status'][df['Company']=='Arianespace'].value_counts())"
   ]
  },
  {
   "cell_type": "code",
   "execution_count": 10,
   "id": "2380ddb0",
   "metadata": {},
   "outputs": [
    {
     "data": {
      "text/plain": [
       "Text(0.5, 1.0, 'Success and Failure Count of each Company')"
      ]
     },
     "execution_count": 10,
     "metadata": {},
     "output_type": "execute_result"
    },
    {
     "data": {
      "image/png": "[encoded data removed]",
      "text/plain": [
       "<Figure size 1440x720 with 1 Axes>"
      ]
     },
     "metadata": {
      "needs_background": "light"
     },
     "output_type": "display_data"
    }
   ],
   "source": [
    "\n",
    "df_1 = pd.DataFrame({\n",
    "    'Company': ['SpaceX', 'Boeing','Martin Marietta','US Air Force Company','European Space Agency',\n",
    "                'Brazilian Space Agency','Arianespace'],\n",
    "    'Success': [88,32,0,0,0,0,0],\n",
    "    'Failure': [8,5,1,7,2,3,4]\n",
    "})\n",
    "fig, ax1 = plt.subplots(figsize=(20, 10))\n",
    "tidy = df_1.melt(id_vars='Company').rename(columns=str.title)\n",
    "sns.barplot(x='Company', y='Value', hue='Variable', data=tidy, ax=ax1)\n",
    "ax1.bar_label(ax1.containers[0])\n",
    "ax1.bar_label(ax1.containers[1])\n",
    "plt.ylabel('Number of Satellite launched')\n",
    "plt.title('Success and Failure Count of each Company',fontsize=15)"
   ]
  },
  {
   "cell_type": "code",
   "execution_count": 11,
   "id": "11dedb95",
   "metadata": {},
   "outputs": [
    {
     "name": "stdout",
     "output_type": "stream",
     "text": [
      "Mission status of SpaceX:\n",
      " Success    91.666667\n",
      "Failure     8.333333\n",
      "Name: Mission Status, dtype: float64\n",
      "Mission status of Boeing:\n",
      " Success    86.486486\n",
      "Failure    13.513514\n",
      "Name: Mission Status, dtype: float64\n",
      "Mission status of Martin Marietta:\n",
      " Failure    100.0\n",
      "Name: Mission Status, dtype: float64\n",
      "Mission status of US Air Force:\n",
      " Failure    100.0\n",
      "Name: Mission Status, dtype: float64\n",
      "Mission status of European Space Agency:\n",
      " Failure    100.0\n",
      "Name: Mission Status, dtype: float64\n",
      "Mission status of Brazilian Space Agency:\n",
      " Failure    100.0\n",
      "Name: Mission Status, dtype: float64\n",
      "Mission status of Arianespace:\n",
      " Failure    100.0\n",
      "Name: Mission Status, dtype: float64\n"
     ]
    }
   ],
   "source": [
    "# Success and failure percentage for each company indivisual\n",
    "\n",
    "print('Mission status of SpaceX:\\n',df['Mission Status'][df['Company']=='SpaceX'].value_counts(normalize=True)*100)\n",
    "\n",
    "print('Mission status of Boeing:\\n',df['Mission Status'][df['Company']=='Boeing'].value_counts(normalize=True)*100)\n",
    "\n",
    "print('Mission status of Martin Marietta:\\n',df['Mission Status'][df['Company']=='Martin Marietta'].value_counts(normalize=True)*100)\n",
    "\n",
    "print('Mission status of US Air Force:\\n',df['Mission Status'][df['Company']=='US Air Force'].value_counts(normalize=True)*100)\n",
    "\n",
    "print('Mission status of European Space Agency:\\n',df['Mission Status'][df['Company']=='European Space Agency'].value_counts(normalize=True)*100)\n",
    "\n",
    "print('Mission status of Brazilian Space Agency:\\n',df['Mission Status'][df['Company']=='Brazilian Space Agency'].value_counts(normalize=True)*100)\n",
    "\n",
    "print('Mission status of Arianespace:\\n',df['Mission Status'][df['Company']=='Arianespace'].value_counts(normalize=True)*100)"
   ]
  },
  {
   "cell_type": "code",
   "execution_count": 12,
   "id": "6da08f47",
   "metadata": {},
   "outputs": [
    {
     "data": {
      "text/plain": [
       "Text(0.5, 1.0, 'Success and Failure percentage of each Company')"
      ]
     },
     "execution_count": 12,
     "metadata": {},
     "output_type": "execute_result"
    },
    {
     "data": {
      "image/png": "[encoded data removed]",
      "text/plain": [
       "<Figure size 1440x720 with 1 Axes>"
      ]
     },
     "metadata": {
      "needs_background": "light"
     },
     "output_type": "display_data"
    }
   ],
   "source": [
    "df_1 = pd.DataFrame({\n",
    "    'Company': ['SpaceX', 'Boeing','Martin Marietta','US Air Force Company','European Space Agency',\n",
    "                'Brazilian Space Agency','Arianespace'],\n",
    "    'Success': [91.67,86.49,0,0,0,0,0],\n",
    "    'Failure': [8.33,13.51,100.0,100.0,100.0,100.0,100.0]\n",
    "})\n",
    "fig, ax1 = plt.subplots(figsize=(20, 10))\n",
    "tidy = df_1.melt(id_vars='Company').rename(columns=str.title)\n",
    "sns.barplot(x='Company', y='Value', hue='Variable', data=tidy, ax=ax1)\n",
    "ax1.bar_label(ax1.containers[0])\n",
    "ax1.bar_label(ax1.containers[1])\n",
    "plt.ylabel('Petrcentage ')\n",
    "plt.title('Success and Failure percentage of each Company',fontsize=15)"
   ]
  },
  {
   "cell_type": "code",
   "execution_count": 13,
   "id": "82a728fe",
   "metadata": {},
   "outputs": [
    {
     "data": {
      "text/plain": [
       "Text(0.5, 1.0, 'Success Percentage based on total succcess combined')"
      ]
     },
     "execution_count": 13,
     "metadata": {},
     "output_type": "execute_result"
    },
    {
     "data": {
      "image/png": "[encoded data removed]",
      "text/plain": [
       "<Figure size 720x720 with 1 Axes>"
      ]
     },
     "metadata": {},
     "output_type": "display_data"
    }
   ],
   "source": [
    "data =  [88,32,0,0,0,0,0]\n",
    "labels = ['SpaceX', 'Boeing','Martin Marietta','US Air Force Company','European Space Agency',\n",
    "                'Brazilian Space Agency','Arianespace']\n",
    "\n",
    "#define Seaborn color palette to use\n",
    "colors = sns.color_palette('pastel')[0:5]\n",
    "\n",
    "#create pie chart\n",
    "plt.figure(figsize=(10,10))\n",
    "plt.pie(data, labels = labels, colors = colors, autopct='%.0f%%')\n",
    "plt.title('Success Percentage based on total succcess combined',fontsize=20)"
   ]
  },
  {
   "cell_type": "code",
   "execution_count": 14,
   "id": "b6786a5b",
   "metadata": {},
   "outputs": [
    {
     "data": {
      "text/plain": [
       "Text(0.5, 1.0, 'Failure Percentage based on total failure combined')"
      ]
     },
     "execution_count": 14,
     "metadata": {},
     "output_type": "execute_result"
    },
    {
     "data": {
      "image/png": "[encoded data removed]",
      "text/plain": [
       "<Figure size 720x720 with 1 Axes>"
      ]
     },
     "metadata": {},
     "output_type": "display_data"
    }
   ],
   "source": [
    "data =  [8,5,1,7,2,3,4]\n",
    "labels = ['SpaceX', 'Boeing','Martin Marietta','US Air Force Company','European Space Agency',\n",
    "                'Brazilian Space Agency','Arianespace']\n",
    "\n",
    "#define Seaborn color palette to use\n",
    "colors = sns.color_palette('pastel')[0:5]\n",
    "\n",
    "#create pie chart\n",
    "plt.figure(figsize=(10,10))\n",
    "plt.pie(data, labels = labels, colors = colors, autopct='%.0f%%')\n",
    "plt.title('Failure Percentage based on total failure combined',fontsize=20)"
   ]
  },
  {
   "cell_type": "markdown",
   "id": "67927497",
   "metadata": {},
   "source": [
    "# Logistic Regression Model: "
   ]
  },
  {
   "cell_type": "code",
   "execution_count": 15,
   "id": "a1784798",
   "metadata": {},
   "outputs": [
    {
     "data": {
      "text/plain": [
       "(150, 15)"
      ]
     },
     "execution_count": 15,
     "metadata": {},
     "output_type": "execute_result"
    }
   ],
   "source": [
    "df.shape"
   ]
  },
  {
   "cell_type": "code",
   "execution_count": 16,
   "id": "d8a004cf",
   "metadata": {},
   "outputs": [
    {
     "data": {
      "text/plain": [
       "(150, 15)"
      ]
     },
     "execution_count": 16,
     "metadata": {},
     "output_type": "execute_result"
    }
   ],
   "source": [
    "df.shape"
   ]
  },
  {
   "cell_type": "code",
   "execution_count": 17,
   "id": "8e074823",
   "metadata": {},
   "outputs": [],
   "source": [
    "df = df.drop(['Payload Mass (kg)','Failure Reason','Payload Orbit','Payload Type','Vehicle Type','Company','Payload Name'],axis = 1)"
   ]
  },
  {
   "cell_type": "code",
   "execution_count": 18,
   "id": "1f4425be",
   "metadata": {},
   "outputs": [
    {
     "data": {
      "text/plain": [
       "(150, 8)"
      ]
     },
     "execution_count": 18,
     "metadata": {},
     "output_type": "execute_result"
    }
   ],
   "source": [
    "df.shape"
   ]
  },
  {
   "cell_type": "code",
   "execution_count": 19,
   "id": "07abde50",
   "metadata": {},
   "outputs": [],
   "source": [
    "df = df.dropna()"
   ]
  },
  {
   "cell_type": "code",
   "execution_count": 20,
   "id": "1cf458c3",
   "metadata": {},
   "outputs": [
    {
     "data": {
      "text/plain": [
       "(136, 8)"
      ]
     },
     "execution_count": 20,
     "metadata": {},
     "output_type": "execute_result"
    }
   ],
   "source": [
    "df.shape"
   ]
  },
  {
   "cell_type": "code",
   "execution_count": 21,
   "id": "82e592cd",
   "metadata": {},
   "outputs": [],
   "source": [
    "from sklearn.linear_model import LogisticRegression\n",
    "from sklearn.model_selection import train_test_split\n",
    "from sklearn import preprocessing"
   ]
  },
  {
   "cell_type": "code",
   "execution_count": 22,
   "id": "101f095b",
   "metadata": {},
   "outputs": [],
   "source": [
    "df['Mission Status'] = df['Mission Status'].map({'Failure':0, 'Success':1})\n"
   ]
  },
  {
   "cell_type": "code",
   "execution_count": 44,
   "id": "a6b3bc37",
   "metadata": {},
   "outputs": [],
   "source": [
    "x_train, x_test, y_train, y_test = train_test_split(df.drop(['Mission Status'],axis=1),\n",
    "                                                   df['Mission Status'], test_size=0.3,\n",
    "                                                   random_state=6)"
   ]
  },
  {
   "cell_type": "code",
   "execution_count": 45,
   "id": "6123378d",
   "metadata": {},
   "outputs": [
    {
     "data": {
      "text/plain": [
       "LogisticRegression()"
      ]
     },
     "execution_count": 45,
     "metadata": {},
     "output_type": "execute_result"
    }
   ],
   "source": [
    "logmodel = LogisticRegression()\n",
    "logmodel.fit(x_train, y_train)"
   ]
  },
  {
   "cell_type": "code",
   "execution_count": 46,
   "id": "d0d3ea74",
   "metadata": {},
   "outputs": [],
   "source": [
    "predictions = logmodel.predict(x_test)"
   ]
  },
  {
   "cell_type": "code",
   "execution_count": 47,
   "id": "bdc38a48",
   "metadata": {},
   "outputs": [
    {
     "name": "stdout",
     "output_type": "stream",
     "text": [
      "95.1219512195122 %\n"
     ]
    }
   ],
   "source": [
    "accuracy = logmodel.score(x_test, y_test)\n",
    "print(accuracy*100,'%')"
   ]
  },
  {
   "cell_type": "code",
   "execution_count": 48,
   "id": "af0935cd",
   "metadata": {},
   "outputs": [
    {
     "name": "stdout",
     "output_type": "stream",
     "text": [
      "              precision    recall  f1-score   support\n",
      "\n",
      "           0       0.67      0.67      0.67         3\n",
      "           1       0.97      0.97      0.97        38\n",
      "\n",
      "    accuracy                           0.95        41\n",
      "   macro avg       0.82      0.82      0.82        41\n",
      "weighted avg       0.95      0.95      0.95        41\n",
      "\n"
     ]
    }
   ],
   "source": [
    "from sklearn.metrics import classification_report\n",
    "print(classification_report(y_test, predictions))"
   ]
  },
  {
   "cell_type": "code",
   "execution_count": 49,
   "id": "45ea9b46",
   "metadata": {},
   "outputs": [
    {
     "data": {
      "text/plain": [
       "array([[ 2,  1],\n",
       "       [ 1, 37]], dtype=int64)"
      ]
     },
     "execution_count": 49,
     "metadata": {},
     "output_type": "execute_result"
    }
   ],
   "source": [
    "from sklearn.metrics import confusion_matrix\n",
    "confusion_matrix(y_test, predictions)"
   ]
  },
  {
   "cell_type": "code",
   "execution_count": null,
   "id": "7f0ff591",
   "metadata": {},
   "outputs": [],
   "source": []
  }
 ],
 "metadata": {
  "kernelspec": {
   "display_name": "Python 3 (ipykernel)",
   "language": "python",
   "name": "python3"
  },
  "language_info": {
   "codemirror_mode": {
    "name": "ipython",
    "version": 3
   },
   "file_extension": ".py",
   "mimetype": "text/x-python",
   "name": "python",
   "nbconvert_exporter": "python",
   "pygments_lexer": "ipython3",
   "version": "3.9.7"
  }
 },
 "nbformat": 4,
 "nbformat_minor": 5
}
