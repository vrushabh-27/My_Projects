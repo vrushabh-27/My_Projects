{
 "cells": [
  {
   "cell_type": "code",
   "execution_count": 1,
   "id": "a7f3d7cc",
   "metadata": {},
   "outputs": [],
   "source": [
    "from keras import models\n",
    "from keras import layers\n",
    "from keras.datasets import mnist\n",
    "from keras.utils import np_utils\n",
    "import matplotlib.pyplot as plt\n",
    "import numpy as np"
   ]
  },
  {
   "cell_type": "code",
   "execution_count": 2,
   "id": "daeab637",
   "metadata": {},
   "outputs": [],
   "source": [
    "# supress warnings/error messages in terminal\n",
    "\n",
    "import os\n",
    "os.environ['TF_CPP_MIN_LOG_LEVEL'] = '3'"
   ]
  },
  {
   "cell_type": "code",
   "execution_count": 3,
   "id": "5fa329bb",
   "metadata": {},
   "outputs": [],
   "source": [
    "# load data from mnist dataset(60k training, 10k test)\n",
    "\n",
    "(x_train, y_train),(x_test,y_test) = mnist.load_data()"
   ]
  },
  {
   "cell_type": "code",
   "execution_count": 4,
   "id": "588acb1a",
   "metadata": {},
   "outputs": [],
   "source": [
    "\n",
    "# reshape and convert to one-hot\n",
    "x_train = x_train.reshape(x_train.shape[0], 784)\n",
    "x_test = x_test.reshape(x_test.shape[0], 784)\n",
    "y_train = np_utils.to_categorical(y_train, 10)\n",
    "y_test = np_utils.to_categorical(y_test, 10)"
   ]
  },
  {
   "cell_type": "code",
   "execution_count": 5,
   "id": "fe1ac0e2",
   "metadata": {},
   "outputs": [],
   "source": [
    "# split main training set into train/validation sets (6k out of 60k data points reserved for validation)\n",
    "x_validate = x_train[:6000, :]\n",
    "y_validate = y_train[:6000, :]\n",
    "x_train = x_train[6000:, :]\n",
    "y_train = y_train[6000:, :]"
   ]
  },
  {
   "cell_type": "code",
   "execution_count": 6,
   "id": "3253ad30",
   "metadata": {},
   "outputs": [],
   "source": [
    "'''\n",
    "Building layers for the feedforward NN:\n",
    "Hidden layers have 56, 96, 96, and 56 nodes, in that order.\n",
    "Takes in 784 values (pixel input) and outputs 10 values (predicted probability for each number, 0-9).\n",
    "'''\n",
    "\n",
    "model = models.Sequential()\n",
    "model.add(layers.Dense(56,activation='relu',input_shape=(784,)))\n",
    "model.add(layers.Dense(96,activation='relu'))\n",
    "model.add(layers.Dense(96,activation='relu'))\n",
    "model.add(layers.Dense(56,activation='relu'))\n",
    "model.add(layers.Dense(10,activation='softmax'))"
   ]
  },
  {
   "cell_type": "code",
   "execution_count": 7,
   "id": "81b25cd0",
   "metadata": {},
   "outputs": [],
   "source": [
    "model.compile(loss='categorical_crossentropy',\n",
    "\t\t\t  optimizer='adam',\n",
    "\t\t\t  metrics=['accuracy'])"
   ]
  },
  {
   "cell_type": "code",
   "execution_count": null,
   "id": "1ba0fc3e",
   "metadata": {},
   "outputs": [],
   "source": []
  },
  {
   "cell_type": "code",
   "execution_count": 8,
   "id": "ab2ec18c",
   "metadata": {},
   "outputs": [
    {
     "name": "stdout",
     "output_type": "stream",
     "text": [
      "Epoch 1/5\n",
      "106/106 - 10s - loss: 2.7041 - accuracy: 0.6703 - val_loss: 0.6555 - val_accuracy: 0.8258 - 10s/epoch - 91ms/step\n",
      "Epoch 2/5\n",
      "106/106 - 3s - loss: 0.5273 - accuracy: 0.8505 - val_loss: 0.4378 - val_accuracy: 0.8812 - 3s/epoch - 31ms/step\n",
      "Epoch 3/5\n",
      "106/106 - 5s - loss: 0.3581 - accuracy: 0.8960 - val_loss: 0.3494 - val_accuracy: 0.9058 - 5s/epoch - 45ms/step\n",
      "Epoch 4/5\n",
      "106/106 - 4s - loss: 0.2748 - accuracy: 0.9172 - val_loss: 0.3040 - val_accuracy: 0.9185 - 4s/epoch - 38ms/step\n",
      "Epoch 5/5\n",
      "106/106 - 4s - loss: 0.2286 - accuracy: 0.9311 - val_loss: 0.2697 - val_accuracy: 0.9252 - 4s/epoch - 34ms/step\n",
      "Finished fitting.\n"
     ]
    }
   ],
   "source": [
    "# Training the Neural network\n",
    "\n",
    "epochs = 5\n",
    "history = model.fit(x_train,y_train,epochs=epochs,batch_size=512,verbose=2,validation_data=(x_validate,y_validate))\n",
    "print(\"Finished fitting.\")"
   ]
  },
  {
   "cell_type": "code",
   "execution_count": 13,
   "id": "5e7536bf",
   "metadata": {},
   "outputs": [
    {
     "data": {
      "text/plain": [
       "Text(0, 0.5, 'Accuracy')"
      ]
     },
     "execution_count": 13,
     "metadata": {},
     "output_type": "execute_result"
    },
    {
     "data": {
      "image/png": "[encoded data removed]",
      "text/plain": [
       "<Figure size 432x288 with 1 Axes>"
      ]
     },
     "metadata": {
      "needs_background": "light"
     },
     "output_type": "display_data"
    }
   ],
   "source": [
    "# Plottig learnings curves during training(on both training and validation data)\n",
    "\n",
    "epoch_labels  =range(1, epochs+1)\n",
    "hist_dict = history.history\n",
    "plt.title(\"Accuracy vs. Epochs\")\n",
    "plt.plot(epoch_labels, hist_dict[\"accuracy\"], 'bo', label = 'Training')\n",
    "plt.plot(epoch_labels, hist_dict[\"val_accuracy\"], 'go', label = 'Validation')\n",
    "plt.legend(loc = 'best')\n",
    "plt.xlabel(\"Epochs\")\n",
    "plt.ylabel(\"Accuracy\")"
   ]
  },
  {
   "cell_type": "code",
   "execution_count": 14,
   "id": "7c45c9f9",
   "metadata": {},
   "outputs": [
    {
     "name": "stdout",
     "output_type": "stream",
     "text": [
      "Checking accuracy on test set....\n",
      "20/20 [==============================] - 1s 28ms/step - loss: 0.2890 - accuracy: 0.9169\n",
      "\n",
      "Accuracy on test set: 0.9168999791145325\n"
     ]
    }
   ],
   "source": [
    "# Evaluating final performance using data\n",
    "\n",
    "print(\"Checking accuracy on test set....\")\n",
    "\n",
    "acc = model.evaluate(x_test, y_test, batch_size = 512)\n",
    "print(\"\\nAccuracy on test set: \" + str(acc[1]))\n",
    "plt.show()"
   ]
  },
  {
   "cell_type": "code",
   "execution_count": null,
   "id": "26c5fb0c",
   "metadata": {},
   "outputs": [],
   "source": []
  }
 ],
 "metadata": {
  "kernelspec": {
   "display_name": "Python 3 (ipykernel)",
   "language": "python",
   "name": "python3"
  },
  "language_info": {
   "codemirror_mode": {
    "name": "ipython",
    "version": 3
   },
   "file_extension": ".py",
   "mimetype": "text/x-python",
   "name": "python",
   "nbconvert_exporter": "python",
   "pygments_lexer": "ipython3",
   "version": "3.9.7"
  }
 },
 "nbformat": 4,
 "nbformat_minor": 5
}
