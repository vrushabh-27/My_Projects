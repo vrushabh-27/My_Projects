{
 "cells": [
  {
   "cell_type": "code",
   "execution_count": 1,
   "id": "bab9db1c",
   "metadata": {},
   "outputs": [
    {
     "name": "stdout",
     "output_type": "stream",
     "text": [
      "   Sno      Name Birthday         Dilouge  Year         Phone\n",
      "0    1  Vrushabh    12-04  Happy Birthady  2021  917798748869\n",
      "1    2    Pratik    13-04  Happy Birthady  2021  917798748869\n",
      "2    3    Tushar    26-04  Happy Birthady  2021  917798748869\n",
      "26-04\n",
      "12-04\n",
      "13-04\n",
      "26-04\n"
     ]
    }
   ],
   "source": [
    "import pandas as pd\n",
    "import datetime\n",
    "import pywhatkit as pwk\n",
    "import pyautogui as pg\n",
    "import keyboard as k\n",
    "\n",
    "def sendMessage(Phone, message):   \n",
    "    pwk.sendwhatmsg_instantly(Phone, message)\n",
    "    pg.press(\"tab\")\n",
    "    pg.press(\"tab\")\n",
    "    pg.press(\"tab\")\n",
    "    pg.press(\"tab\")\n",
    "    pg.press(\"tab\")\n",
    "    pg.press(\"tab\")\n",
    "    pg.press(\"tab\")\n",
    "    pg.press(\"tab\")\n",
    "    pg.press(\"enter\")\n",
    "    k.press_and_release(\"enter\")\n",
    "\n",
    "  \n",
    "df = pd.read_excel(r\"C:\\Users\\Admin\\OneDrive\\Desktop\\data.xlsx\")\n",
    "print(df)\n",
    "today = datetime.datetime.now().strftime(\"%d-%m\")\n",
    "print(today)\n",
    "yearNow = datetime.datetime.now().strftime(\"%Y\")\n",
    "\n",
    "for index, item in df.iterrows():\n",
    "        #print(index, item['Birthday'])\n",
    "        bday = item['Birthday']\n",
    "        print(bday) \n",
    "        if(today == bday) and yearNow not in str(item['Year']):          \n",
    "            Ph = ('+' + str(item['Phone']))\n",
    "            wish=\"Happy Birthday \" + str(item['Name'])\n",
    "            sendMessage(Ph,wish)\n"
   ]
  },
  {
   "cell_type": "code",
   "execution_count": null,
   "id": "e0a0a01b",
   "metadata": {},
   "outputs": [],
   "source": []
  },
  {
   "cell_type": "code",
   "execution_count": null,
   "id": "7eba9fc7",
   "metadata": {},
   "outputs": [],
   "source": []
  },
  {
   "cell_type": "code",
   "execution_count": null,
   "id": "872e3715",
   "metadata": {},
   "outputs": [],
   "source": []
  }
 ],
 "metadata": {
  "kernelspec": {
   "display_name": "Python 3 (ipykernel)",
   "language": "python",
   "name": "python3"
  },
  "language_info": {
   "codemirror_mode": {
    "name": "ipython",
    "version": 3
   },
   "file_extension": ".py",
   "mimetype": "text/x-python",
   "name": "python",
   "nbconvert_exporter": "python",
   "pygments_lexer": "ipython3",
   "version": "3.9.7"
  }
 },
 "nbformat": 4,
 "nbformat_minor": 5
}
