{
 "cells": [
  {
   "cell_type": "markdown",
   "id": "a7f7e3a8",
   "metadata": {},
   "source": [
    "# Linear_Regression_HP:"
   ]
  },
  {
   "cell_type": "code",
   "execution_count": 1,
   "id": "7a5212fc",
   "metadata": {},
   "outputs": [],
   "source": [
    "# https://www.kaggle.com/jessicali9530/honey-production\n",
    "# get data set from here"
   ]
  },
  {
   "cell_type": "markdown",
   "id": "e018f8ca",
   "metadata": {},
   "source": [
    "## Data Analysis: "
   ]
  },
  {
   "cell_type": "code",
   "execution_count": 2,
   "id": "e2221071",
   "metadata": {},
   "outputs": [],
   "source": [
    "import pandas as pd\n",
    "import numpy as np\n",
    "import matplotlib.pyplot as plt\n",
    "import seaborn as sns\n",
    "%matplotlib inline"
   ]
  },
  {
   "cell_type": "code",
   "execution_count": 3,
   "id": "5f665da1",
   "metadata": {},
   "outputs": [],
   "source": [
    "# Read Honey Production Dataset\n",
    "\n",
    "hp = pd.read_csv(r'C:\\Users\\Admin\\Downloads\\honeyproduction.csv')"
   ]
  },
  {
   "cell_type": "code",
   "execution_count": 4,
   "id": "463274d2",
   "metadata": {},
   "outputs": [
    {
     "data": {
      "text/plain": [
       "(626, 8)"
      ]
     },
     "execution_count": 4,
     "metadata": {},
     "output_type": "execute_result"
    }
   ],
   "source": [
    "hp.shape"
   ]
  },
  {
   "cell_type": "code",
   "execution_count": 5,
   "id": "8c4c0abc",
   "metadata": {},
   "outputs": [
    {
     "data": {
      "text/html": [
       "<div>\n",
       "<style scoped>\n",
       "    .dataframe tbody tr th:only-of-type {\n",
       "        vertical-align: middle;\n",
       "    }\n",
       "\n",
       "    .dataframe tbody tr th {\n",
       "        vertical-align: top;\n",
       "    }\n",
       "\n",
       "    .dataframe thead th {\n",
       "        text-align: right;\n",
       "    }\n",
       "</style>\n",
       "<table border=\"1\" class=\"dataframe\">\n",
       "  <thead>\n",
       "    <tr style=\"text-align: right;\">\n",
       "      <th></th>\n",
       "      <th>state</th>\n",
       "      <th>numcol</th>\n",
       "      <th>yieldpercol</th>\n",
       "      <th>totalprod</th>\n",
       "      <th>stocks</th>\n",
       "      <th>priceperlb</th>\n",
       "      <th>prodvalue</th>\n",
       "      <th>year</th>\n",
       "    </tr>\n",
       "  </thead>\n",
       "  <tbody>\n",
       "    <tr>\n",
       "      <th>0</th>\n",
       "      <td>AL</td>\n",
       "      <td>16000.0</td>\n",
       "      <td>71</td>\n",
       "      <td>1136000.0</td>\n",
       "      <td>159000.0</td>\n",
       "      <td>0.72</td>\n",
       "      <td>818000.0</td>\n",
       "      <td>1998</td>\n",
       "    </tr>\n",
       "    <tr>\n",
       "      <th>1</th>\n",
       "      <td>AZ</td>\n",
       "      <td>55000.0</td>\n",
       "      <td>60</td>\n",
       "      <td>3300000.0</td>\n",
       "      <td>1485000.0</td>\n",
       "      <td>0.64</td>\n",
       "      <td>2112000.0</td>\n",
       "      <td>1998</td>\n",
       "    </tr>\n",
       "    <tr>\n",
       "      <th>2</th>\n",
       "      <td>AR</td>\n",
       "      <td>53000.0</td>\n",
       "      <td>65</td>\n",
       "      <td>3445000.0</td>\n",
       "      <td>1688000.0</td>\n",
       "      <td>0.59</td>\n",
       "      <td>2033000.0</td>\n",
       "      <td>1998</td>\n",
       "    </tr>\n",
       "    <tr>\n",
       "      <th>3</th>\n",
       "      <td>CA</td>\n",
       "      <td>450000.0</td>\n",
       "      <td>83</td>\n",
       "      <td>37350000.0</td>\n",
       "      <td>12326000.0</td>\n",
       "      <td>0.62</td>\n",
       "      <td>23157000.0</td>\n",
       "      <td>1998</td>\n",
       "    </tr>\n",
       "    <tr>\n",
       "      <th>4</th>\n",
       "      <td>CO</td>\n",
       "      <td>27000.0</td>\n",
       "      <td>72</td>\n",
       "      <td>1944000.0</td>\n",
       "      <td>1594000.0</td>\n",
       "      <td>0.70</td>\n",
       "      <td>1361000.0</td>\n",
       "      <td>1998</td>\n",
       "    </tr>\n",
       "  </tbody>\n",
       "</table>\n",
       "</div>"
      ],
      "text/plain": [
       "  state    numcol  yieldpercol   totalprod      stocks  priceperlb  \\\n",
       "0    AL   16000.0           71   1136000.0    159000.0        0.72   \n",
       "1    AZ   55000.0           60   3300000.0   1485000.0        0.64   \n",
       "2    AR   53000.0           65   3445000.0   1688000.0        0.59   \n",
       "3    CA  450000.0           83  37350000.0  12326000.0        0.62   \n",
       "4    CO   27000.0           72   1944000.0   1594000.0        0.70   \n",
       "\n",
       "    prodvalue  year  \n",
       "0    818000.0  1998  \n",
       "1   2112000.0  1998  \n",
       "2   2033000.0  1998  \n",
       "3  23157000.0  1998  \n",
       "4   1361000.0  1998  "
      ]
     },
     "execution_count": 5,
     "metadata": {},
     "output_type": "execute_result"
    }
   ],
   "source": [
    "hp.head()"
   ]
  },
  {
   "cell_type": "code",
   "execution_count": 6,
   "id": "53d276d4",
   "metadata": {},
   "outputs": [
    {
     "data": {
      "text/html": [
       "<div>\n",
       "<style scoped>\n",
       "    .dataframe tbody tr th:only-of-type {\n",
       "        vertical-align: middle;\n",
       "    }\n",
       "\n",
       "    .dataframe tbody tr th {\n",
       "        vertical-align: top;\n",
       "    }\n",
       "\n",
       "    .dataframe thead th {\n",
       "        text-align: right;\n",
       "    }\n",
       "</style>\n",
       "<table border=\"1\" class=\"dataframe\">\n",
       "  <thead>\n",
       "    <tr style=\"text-align: right;\">\n",
       "      <th></th>\n",
       "      <th>state</th>\n",
       "      <th>numcol</th>\n",
       "      <th>yieldpercol</th>\n",
       "      <th>totalprod</th>\n",
       "      <th>stocks</th>\n",
       "      <th>priceperlb</th>\n",
       "      <th>prodvalue</th>\n",
       "      <th>year</th>\n",
       "    </tr>\n",
       "  </thead>\n",
       "  <tbody>\n",
       "    <tr>\n",
       "      <th>621</th>\n",
       "      <td>VA</td>\n",
       "      <td>4000.0</td>\n",
       "      <td>41</td>\n",
       "      <td>164000.0</td>\n",
       "      <td>23000.0</td>\n",
       "      <td>3.77</td>\n",
       "      <td>618000.0</td>\n",
       "      <td>2012</td>\n",
       "    </tr>\n",
       "    <tr>\n",
       "      <th>622</th>\n",
       "      <td>WA</td>\n",
       "      <td>62000.0</td>\n",
       "      <td>41</td>\n",
       "      <td>2542000.0</td>\n",
       "      <td>1017000.0</td>\n",
       "      <td>2.38</td>\n",
       "      <td>6050000.0</td>\n",
       "      <td>2012</td>\n",
       "    </tr>\n",
       "    <tr>\n",
       "      <th>623</th>\n",
       "      <td>WV</td>\n",
       "      <td>6000.0</td>\n",
       "      <td>48</td>\n",
       "      <td>288000.0</td>\n",
       "      <td>95000.0</td>\n",
       "      <td>2.91</td>\n",
       "      <td>838000.0</td>\n",
       "      <td>2012</td>\n",
       "    </tr>\n",
       "    <tr>\n",
       "      <th>624</th>\n",
       "      <td>WI</td>\n",
       "      <td>60000.0</td>\n",
       "      <td>69</td>\n",
       "      <td>4140000.0</td>\n",
       "      <td>1863000.0</td>\n",
       "      <td>2.05</td>\n",
       "      <td>8487000.0</td>\n",
       "      <td>2012</td>\n",
       "    </tr>\n",
       "    <tr>\n",
       "      <th>625</th>\n",
       "      <td>WY</td>\n",
       "      <td>50000.0</td>\n",
       "      <td>51</td>\n",
       "      <td>2550000.0</td>\n",
       "      <td>459000.0</td>\n",
       "      <td>1.87</td>\n",
       "      <td>4769000.0</td>\n",
       "      <td>2012</td>\n",
       "    </tr>\n",
       "  </tbody>\n",
       "</table>\n",
       "</div>"
      ],
      "text/plain": [
       "    state   numcol  yieldpercol  totalprod     stocks  priceperlb  prodvalue  \\\n",
       "621    VA   4000.0           41   164000.0    23000.0        3.77   618000.0   \n",
       "622    WA  62000.0           41  2542000.0  1017000.0        2.38  6050000.0   \n",
       "623    WV   6000.0           48   288000.0    95000.0        2.91   838000.0   \n",
       "624    WI  60000.0           69  4140000.0  1863000.0        2.05  8487000.0   \n",
       "625    WY  50000.0           51  2550000.0   459000.0        1.87  4769000.0   \n",
       "\n",
       "     year  \n",
       "621  2012  \n",
       "622  2012  \n",
       "623  2012  \n",
       "624  2012  \n",
       "625  2012  "
      ]
     },
     "execution_count": 6,
     "metadata": {},
     "output_type": "execute_result"
    }
   ],
   "source": [
    "hp.tail()"
   ]
  },
  {
   "cell_type": "code",
   "execution_count": 7,
   "id": "eeb4ebca",
   "metadata": {},
   "outputs": [
    {
     "data": {
      "text/plain": [
       "44"
      ]
     },
     "execution_count": 7,
     "metadata": {},
     "output_type": "execute_result"
    }
   ],
   "source": [
    "#How many states are there?\n",
    "len(hp['state'].unique())"
   ]
  },
  {
   "cell_type": "code",
   "execution_count": 8,
   "id": "47778824",
   "metadata": {},
   "outputs": [
    {
     "data": {
      "text/plain": [
       "37738000.0"
      ]
     },
     "execution_count": 8,
     "metadata": {},
     "output_type": "execute_result"
    }
   ],
   "source": [
    "# Total number of colonies\n",
    "hp['numcol'].sum()"
   ]
  },
  {
   "cell_type": "code",
   "execution_count": 9,
   "id": "bdfd55e8",
   "metadata": {},
   "outputs": [
    {
     "data": {
      "text/html": [
       "<div>\n",
       "<style scoped>\n",
       "    .dataframe tbody tr th:only-of-type {\n",
       "        vertical-align: middle;\n",
       "    }\n",
       "\n",
       "    .dataframe tbody tr th {\n",
       "        vertical-align: top;\n",
       "    }\n",
       "\n",
       "    .dataframe thead th {\n",
       "        text-align: right;\n",
       "    }\n",
       "</style>\n",
       "<table border=\"1\" class=\"dataframe\">\n",
       "  <thead>\n",
       "    <tr style=\"text-align: right;\">\n",
       "      <th></th>\n",
       "      <th>count</th>\n",
       "      <th>mean</th>\n",
       "      <th>std</th>\n",
       "      <th>min</th>\n",
       "      <th>25%</th>\n",
       "      <th>50%</th>\n",
       "      <th>75%</th>\n",
       "      <th>max</th>\n",
       "    </tr>\n",
       "  </thead>\n",
       "  <tbody>\n",
       "    <tr>\n",
       "      <th>numcol</th>\n",
       "      <td>626.0</td>\n",
       "      <td>6.028435e+04</td>\n",
       "      <td>9.107709e+04</td>\n",
       "      <td>2000.00</td>\n",
       "      <td>9000.0000</td>\n",
       "      <td>26000.00</td>\n",
       "      <td>63750.00</td>\n",
       "      <td>510000.00</td>\n",
       "    </tr>\n",
       "    <tr>\n",
       "      <th>yieldpercol</th>\n",
       "      <td>626.0</td>\n",
       "      <td>6.200958e+01</td>\n",
       "      <td>1.945875e+01</td>\n",
       "      <td>19.00</td>\n",
       "      <td>48.0000</td>\n",
       "      <td>60.00</td>\n",
       "      <td>74.00</td>\n",
       "      <td>136.00</td>\n",
       "    </tr>\n",
       "    <tr>\n",
       "      <th>totalprod</th>\n",
       "      <td>626.0</td>\n",
       "      <td>4.169086e+06</td>\n",
       "      <td>6.883847e+06</td>\n",
       "      <td>84000.00</td>\n",
       "      <td>475000.0000</td>\n",
       "      <td>1533000.00</td>\n",
       "      <td>4175250.00</td>\n",
       "      <td>46410000.00</td>\n",
       "    </tr>\n",
       "    <tr>\n",
       "      <th>stocks</th>\n",
       "      <td>626.0</td>\n",
       "      <td>1.318859e+06</td>\n",
       "      <td>2.272964e+06</td>\n",
       "      <td>8000.00</td>\n",
       "      <td>143000.0000</td>\n",
       "      <td>439500.00</td>\n",
       "      <td>1489500.00</td>\n",
       "      <td>13800000.00</td>\n",
       "    </tr>\n",
       "    <tr>\n",
       "      <th>priceperlb</th>\n",
       "      <td>626.0</td>\n",
       "      <td>1.409569e+00</td>\n",
       "      <td>6.385989e-01</td>\n",
       "      <td>0.49</td>\n",
       "      <td>0.9325</td>\n",
       "      <td>1.36</td>\n",
       "      <td>1.68</td>\n",
       "      <td>4.15</td>\n",
       "    </tr>\n",
       "    <tr>\n",
       "      <th>prodvalue</th>\n",
       "      <td>626.0</td>\n",
       "      <td>4.715741e+06</td>\n",
       "      <td>7.976110e+06</td>\n",
       "      <td>162000.00</td>\n",
       "      <td>759250.0000</td>\n",
       "      <td>1841500.00</td>\n",
       "      <td>4703250.00</td>\n",
       "      <td>69615000.00</td>\n",
       "    </tr>\n",
       "    <tr>\n",
       "      <th>year</th>\n",
       "      <td>626.0</td>\n",
       "      <td>2.004864e+03</td>\n",
       "      <td>4.317306e+00</td>\n",
       "      <td>1998.00</td>\n",
       "      <td>2001.0000</td>\n",
       "      <td>2005.00</td>\n",
       "      <td>2009.00</td>\n",
       "      <td>2012.00</td>\n",
       "    </tr>\n",
       "  </tbody>\n",
       "</table>\n",
       "</div>"
      ],
      "text/plain": [
       "             count          mean           std        min          25%  \\\n",
       "numcol       626.0  6.028435e+04  9.107709e+04    2000.00    9000.0000   \n",
       "yieldpercol  626.0  6.200958e+01  1.945875e+01      19.00      48.0000   \n",
       "totalprod    626.0  4.169086e+06  6.883847e+06   84000.00  475000.0000   \n",
       "stocks       626.0  1.318859e+06  2.272964e+06    8000.00  143000.0000   \n",
       "priceperlb   626.0  1.409569e+00  6.385989e-01       0.49       0.9325   \n",
       "prodvalue    626.0  4.715741e+06  7.976110e+06  162000.00  759250.0000   \n",
       "year         626.0  2.004864e+03  4.317306e+00    1998.00    2001.0000   \n",
       "\n",
       "                    50%         75%          max  \n",
       "numcol         26000.00    63750.00    510000.00  \n",
       "yieldpercol       60.00       74.00       136.00  \n",
       "totalprod    1533000.00  4175250.00  46410000.00  \n",
       "stocks        439500.00  1489500.00  13800000.00  \n",
       "priceperlb         1.36        1.68         4.15  \n",
       "prodvalue    1841500.00  4703250.00  69615000.00  \n",
       "year            2005.00     2009.00      2012.00  "
      ]
     },
     "execution_count": 9,
     "metadata": {},
     "output_type": "execute_result"
    }
   ],
   "source": [
    "# summarizing the hp dataset\n",
    "\n",
    "hp.describe().transpose()"
   ]
  },
  {
   "cell_type": "code",
   "execution_count": 10,
   "id": "8ced7aab",
   "metadata": {},
   "outputs": [
    {
     "data": {
      "text/html": [
       "<div>\n",
       "<style scoped>\n",
       "    .dataframe tbody tr th:only-of-type {\n",
       "        vertical-align: middle;\n",
       "    }\n",
       "\n",
       "    .dataframe tbody tr th {\n",
       "        vertical-align: top;\n",
       "    }\n",
       "\n",
       "    .dataframe thead th {\n",
       "        text-align: right;\n",
       "    }\n",
       "</style>\n",
       "<table border=\"1\" class=\"dataframe\">\n",
       "  <thead>\n",
       "    <tr style=\"text-align: right;\">\n",
       "      <th></th>\n",
       "      <th>numcol</th>\n",
       "      <th>totalprod</th>\n",
       "      <th>yieldpercol</th>\n",
       "      <th>stocks</th>\n",
       "      <th>prodvalue</th>\n",
       "    </tr>\n",
       "    <tr>\n",
       "      <th>year</th>\n",
       "      <th></th>\n",
       "      <th></th>\n",
       "      <th></th>\n",
       "      <th></th>\n",
       "      <th></th>\n",
       "    </tr>\n",
       "  </thead>\n",
       "  <tbody>\n",
       "    <tr>\n",
       "      <th>1998</th>\n",
       "      <td>2621000.0</td>\n",
       "      <td>219519000.0</td>\n",
       "      <td>3008</td>\n",
       "      <td>80565000.0</td>\n",
       "      <td>146091000.0</td>\n",
       "    </tr>\n",
       "    <tr>\n",
       "      <th>1999</th>\n",
       "      <td>2637000.0</td>\n",
       "      <td>202387000.0</td>\n",
       "      <td>2815</td>\n",
       "      <td>78390000.0</td>\n",
       "      <td>123657000.0</td>\n",
       "    </tr>\n",
       "    <tr>\n",
       "      <th>2000</th>\n",
       "      <td>2604000.0</td>\n",
       "      <td>219558000.0</td>\n",
       "      <td>2906</td>\n",
       "      <td>84956000.0</td>\n",
       "      <td>131568000.0</td>\n",
       "    </tr>\n",
       "    <tr>\n",
       "      <th>2001</th>\n",
       "      <td>2542000.0</td>\n",
       "      <td>185748000.0</td>\n",
       "      <td>2840</td>\n",
       "      <td>64764000.0</td>\n",
       "      <td>132282000.0</td>\n",
       "    </tr>\n",
       "    <tr>\n",
       "      <th>2002</th>\n",
       "      <td>2565000.0</td>\n",
       "      <td>171265000.0</td>\n",
       "      <td>2939</td>\n",
       "      <td>39177000.0</td>\n",
       "      <td>227302000.0</td>\n",
       "    </tr>\n",
       "  </tbody>\n",
       "</table>\n",
       "</div>"
      ],
      "text/plain": [
       "         numcol    totalprod  yieldpercol      stocks    prodvalue\n",
       "year                                                              \n",
       "1998  2621000.0  219519000.0         3008  80565000.0  146091000.0\n",
       "1999  2637000.0  202387000.0         2815  78390000.0  123657000.0\n",
       "2000  2604000.0  219558000.0         2906  84956000.0  131568000.0\n",
       "2001  2542000.0  185748000.0         2840  64764000.0  132282000.0\n",
       "2002  2565000.0  171265000.0         2939  39177000.0  227302000.0"
      ]
     },
     "execution_count": 10,
     "metadata": {},
     "output_type": "execute_result"
    }
   ],
   "source": [
    "#Creating summary table to understand the trend using year variable\n",
    "\n",
    "hp_year = hp[['numcol','totalprod','year','yieldpercol','stocks','prodvalue']].groupby('year').sum()\n",
    "\n",
    "hp_year.head()"
   ]
  },
  {
   "cell_type": "code",
   "execution_count": 11,
   "id": "7e7cab67",
   "metadata": {},
   "outputs": [
    {
     "data": {
      "text/html": [
       "<div>\n",
       "<style scoped>\n",
       "    .dataframe tbody tr th:only-of-type {\n",
       "        vertical-align: middle;\n",
       "    }\n",
       "\n",
       "    .dataframe tbody tr th {\n",
       "        vertical-align: top;\n",
       "    }\n",
       "\n",
       "    .dataframe thead th {\n",
       "        text-align: right;\n",
       "    }\n",
       "</style>\n",
       "<table border=\"1\" class=\"dataframe\">\n",
       "  <thead>\n",
       "    <tr style=\"text-align: right;\">\n",
       "      <th></th>\n",
       "      <th>year</th>\n",
       "      <th>numcol</th>\n",
       "      <th>totalprod</th>\n",
       "      <th>yieldpercol</th>\n",
       "      <th>stocks</th>\n",
       "      <th>prodvalue</th>\n",
       "    </tr>\n",
       "  </thead>\n",
       "  <tbody>\n",
       "    <tr>\n",
       "      <th>0</th>\n",
       "      <td>1998</td>\n",
       "      <td>2621000.0</td>\n",
       "      <td>219519000.0</td>\n",
       "      <td>3008</td>\n",
       "      <td>80565000.0</td>\n",
       "      <td>146091000.0</td>\n",
       "    </tr>\n",
       "    <tr>\n",
       "      <th>1</th>\n",
       "      <td>1999</td>\n",
       "      <td>2637000.0</td>\n",
       "      <td>202387000.0</td>\n",
       "      <td>2815</td>\n",
       "      <td>78390000.0</td>\n",
       "      <td>123657000.0</td>\n",
       "    </tr>\n",
       "    <tr>\n",
       "      <th>2</th>\n",
       "      <td>2000</td>\n",
       "      <td>2604000.0</td>\n",
       "      <td>219558000.0</td>\n",
       "      <td>2906</td>\n",
       "      <td>84956000.0</td>\n",
       "      <td>131568000.0</td>\n",
       "    </tr>\n",
       "    <tr>\n",
       "      <th>3</th>\n",
       "      <td>2001</td>\n",
       "      <td>2542000.0</td>\n",
       "      <td>185748000.0</td>\n",
       "      <td>2840</td>\n",
       "      <td>64764000.0</td>\n",
       "      <td>132282000.0</td>\n",
       "    </tr>\n",
       "    <tr>\n",
       "      <th>4</th>\n",
       "      <td>2002</td>\n",
       "      <td>2565000.0</td>\n",
       "      <td>171265000.0</td>\n",
       "      <td>2939</td>\n",
       "      <td>39177000.0</td>\n",
       "      <td>227302000.0</td>\n",
       "    </tr>\n",
       "  </tbody>\n",
       "</table>\n",
       "</div>"
      ],
      "text/plain": [
       "   year     numcol    totalprod  yieldpercol      stocks    prodvalue\n",
       "0  1998  2621000.0  219519000.0         3008  80565000.0  146091000.0\n",
       "1  1999  2637000.0  202387000.0         2815  78390000.0  123657000.0\n",
       "2  2000  2604000.0  219558000.0         2906  84956000.0  131568000.0\n",
       "3  2001  2542000.0  185748000.0         2840  64764000.0  132282000.0\n",
       "4  2002  2565000.0  171265000.0         2939  39177000.0  227302000.0"
      ]
     },
     "execution_count": 11,
     "metadata": {},
     "output_type": "execute_result"
    }
   ],
   "source": [
    "# Resetting index values\n",
    "\n",
    "hp_year.reset_index(inplace=True)\n",
    "hp_year.head()"
   ]
  },
  {
   "cell_type": "markdown",
   "id": "917fb8ba",
   "metadata": {},
   "source": [
    "## Data Visualization: "
   ]
  },
  {
   "cell_type": "code",
   "execution_count": 12,
   "id": "a01aecb6",
   "metadata": {},
   "outputs": [
    {
     "data": {
      "text/html": [
       "<div>\n",
       "<style scoped>\n",
       "    .dataframe tbody tr th:only-of-type {\n",
       "        vertical-align: middle;\n",
       "    }\n",
       "\n",
       "    .dataframe tbody tr th {\n",
       "        vertical-align: top;\n",
       "    }\n",
       "\n",
       "    .dataframe thead th {\n",
       "        text-align: right;\n",
       "    }\n",
       "</style>\n",
       "<table border=\"1\" class=\"dataframe\">\n",
       "  <thead>\n",
       "    <tr style=\"text-align: right;\">\n",
       "      <th></th>\n",
       "      <th>state</th>\n",
       "      <th>numcol</th>\n",
       "      <th>yieldpercol</th>\n",
       "      <th>totalprod</th>\n",
       "      <th>stocks</th>\n",
       "      <th>priceperlb</th>\n",
       "      <th>prodvalue</th>\n",
       "      <th>year</th>\n",
       "    </tr>\n",
       "  </thead>\n",
       "  <tbody>\n",
       "    <tr>\n",
       "      <th>0</th>\n",
       "      <td>AL</td>\n",
       "      <td>16000.0</td>\n",
       "      <td>71</td>\n",
       "      <td>1136000.0</td>\n",
       "      <td>159000.0</td>\n",
       "      <td>0.72</td>\n",
       "      <td>818000.0</td>\n",
       "      <td>1998</td>\n",
       "    </tr>\n",
       "    <tr>\n",
       "      <th>1</th>\n",
       "      <td>AZ</td>\n",
       "      <td>55000.0</td>\n",
       "      <td>60</td>\n",
       "      <td>3300000.0</td>\n",
       "      <td>1485000.0</td>\n",
       "      <td>0.64</td>\n",
       "      <td>2112000.0</td>\n",
       "      <td>1998</td>\n",
       "    </tr>\n",
       "    <tr>\n",
       "      <th>2</th>\n",
       "      <td>AR</td>\n",
       "      <td>53000.0</td>\n",
       "      <td>65</td>\n",
       "      <td>3445000.0</td>\n",
       "      <td>1688000.0</td>\n",
       "      <td>0.59</td>\n",
       "      <td>2033000.0</td>\n",
       "      <td>1998</td>\n",
       "    </tr>\n",
       "    <tr>\n",
       "      <th>3</th>\n",
       "      <td>CA</td>\n",
       "      <td>450000.0</td>\n",
       "      <td>83</td>\n",
       "      <td>37350000.0</td>\n",
       "      <td>12326000.0</td>\n",
       "      <td>0.62</td>\n",
       "      <td>23157000.0</td>\n",
       "      <td>1998</td>\n",
       "    </tr>\n",
       "    <tr>\n",
       "      <th>4</th>\n",
       "      <td>CO</td>\n",
       "      <td>27000.0</td>\n",
       "      <td>72</td>\n",
       "      <td>1944000.0</td>\n",
       "      <td>1594000.0</td>\n",
       "      <td>0.70</td>\n",
       "      <td>1361000.0</td>\n",
       "      <td>1998</td>\n",
       "    </tr>\n",
       "    <tr>\n",
       "      <th>...</th>\n",
       "      <td>...</td>\n",
       "      <td>...</td>\n",
       "      <td>...</td>\n",
       "      <td>...</td>\n",
       "      <td>...</td>\n",
       "      <td>...</td>\n",
       "      <td>...</td>\n",
       "      <td>...</td>\n",
       "    </tr>\n",
       "    <tr>\n",
       "      <th>621</th>\n",
       "      <td>VA</td>\n",
       "      <td>4000.0</td>\n",
       "      <td>41</td>\n",
       "      <td>164000.0</td>\n",
       "      <td>23000.0</td>\n",
       "      <td>3.77</td>\n",
       "      <td>618000.0</td>\n",
       "      <td>2012</td>\n",
       "    </tr>\n",
       "    <tr>\n",
       "      <th>622</th>\n",
       "      <td>WA</td>\n",
       "      <td>62000.0</td>\n",
       "      <td>41</td>\n",
       "      <td>2542000.0</td>\n",
       "      <td>1017000.0</td>\n",
       "      <td>2.38</td>\n",
       "      <td>6050000.0</td>\n",
       "      <td>2012</td>\n",
       "    </tr>\n",
       "    <tr>\n",
       "      <th>623</th>\n",
       "      <td>WV</td>\n",
       "      <td>6000.0</td>\n",
       "      <td>48</td>\n",
       "      <td>288000.0</td>\n",
       "      <td>95000.0</td>\n",
       "      <td>2.91</td>\n",
       "      <td>838000.0</td>\n",
       "      <td>2012</td>\n",
       "    </tr>\n",
       "    <tr>\n",
       "      <th>624</th>\n",
       "      <td>WI</td>\n",
       "      <td>60000.0</td>\n",
       "      <td>69</td>\n",
       "      <td>4140000.0</td>\n",
       "      <td>1863000.0</td>\n",
       "      <td>2.05</td>\n",
       "      <td>8487000.0</td>\n",
       "      <td>2012</td>\n",
       "    </tr>\n",
       "    <tr>\n",
       "      <th>625</th>\n",
       "      <td>WY</td>\n",
       "      <td>50000.0</td>\n",
       "      <td>51</td>\n",
       "      <td>2550000.0</td>\n",
       "      <td>459000.0</td>\n",
       "      <td>1.87</td>\n",
       "      <td>4769000.0</td>\n",
       "      <td>2012</td>\n",
       "    </tr>\n",
       "  </tbody>\n",
       "</table>\n",
       "<p>626 rows × 8 columns</p>\n",
       "</div>"
      ],
      "text/plain": [
       "    state    numcol  yieldpercol   totalprod      stocks  priceperlb  \\\n",
       "0      AL   16000.0           71   1136000.0    159000.0        0.72   \n",
       "1      AZ   55000.0           60   3300000.0   1485000.0        0.64   \n",
       "2      AR   53000.0           65   3445000.0   1688000.0        0.59   \n",
       "3      CA  450000.0           83  37350000.0  12326000.0        0.62   \n",
       "4      CO   27000.0           72   1944000.0   1594000.0        0.70   \n",
       "..    ...       ...          ...         ...         ...         ...   \n",
       "621    VA    4000.0           41    164000.0     23000.0        3.77   \n",
       "622    WA   62000.0           41   2542000.0   1017000.0        2.38   \n",
       "623    WV    6000.0           48    288000.0     95000.0        2.91   \n",
       "624    WI   60000.0           69   4140000.0   1863000.0        2.05   \n",
       "625    WY   50000.0           51   2550000.0    459000.0        1.87   \n",
       "\n",
       "      prodvalue  year  \n",
       "0      818000.0  1998  \n",
       "1     2112000.0  1998  \n",
       "2     2033000.0  1998  \n",
       "3    23157000.0  1998  \n",
       "4     1361000.0  1998  \n",
       "..          ...   ...  \n",
       "621    618000.0  2012  \n",
       "622   6050000.0  2012  \n",
       "623    838000.0  2012  \n",
       "624   8487000.0  2012  \n",
       "625   4769000.0  2012  \n",
       "\n",
       "[626 rows x 8 columns]"
      ]
     },
     "execution_count": 12,
     "metadata": {},
     "output_type": "execute_result"
    }
   ],
   "source": [
    "hp"
   ]
  },
  {
   "cell_type": "code",
   "execution_count": 13,
   "id": "f521460c",
   "metadata": {},
   "outputs": [
    {
     "data": {
      "text/plain": [
       "Text(0, 0.5, 'Yield per Colony')"
      ]
     },
     "execution_count": 13,
     "metadata": {},
     "output_type": "execute_result"
    },
    {
     "data": {
      "image/png": "[encoded data removed]",
      "text/plain": [
       "<Figure size 1800x576 with 1 Axes>"
      ]
     },
     "metadata": {
      "needs_background": "light"
     },
     "output_type": "display_data"
    }
   ],
   "source": [
    "# Visualizing the trend of yield per colony from year 1998 to 2012\n",
    "\n",
    "plt.figure(figsize=(25,8))\n",
    "#plt.figure(figsize=(width=25,height=8))     size in inches\n",
    "plt.plot(hp_year['year'],hp_year['yieldpercol'])\n",
    "plt.title('Trend of Honey Yield per Colony',fontsize = 35)\n",
    "plt.xlabel('Year',fontsize = 25)\n",
    "plt.ylabel('Yield per Colony',fontsize = 25)"
   ]
  },
  {
   "cell_type": "code",
   "execution_count": 29,
   "id": "9f448b36",
   "metadata": {},
   "outputs": [
    {
     "data": {
      "text/plain": [
       "Text(0, 0.5, 'Total Honey Production (lbs.)')"
      ]
     },
     "execution_count": 29,
     "metadata": {},
     "output_type": "execute_result"
    },
    {
     "data": {
      "image/png": "[encoded data removed]",
      "text/plain": [
       "<Figure size 1800x576 with 1 Axes>"
      ]
     },
     "metadata": {
      "needs_background": "light"
     },
     "output_type": "display_data"
    }
   ],
   "source": [
    "# Visualizing the total honey production from the year 1998 to 2012\n",
    "plt.figure(figsize=(25,8))\n",
    "plt.plot(hp_year['year'],hp_year['totalprod'])\n",
    "plt.title('Trend of Total Honey Production',fontsize = 35)\n",
    "plt.xlabel('Year',fontsize = 25)\n",
    "plt.ylabel('Total Honey Production (lbs.)',fontsize = 25)"
   ]
  },
  {
   "cell_type": "code",
   "execution_count": 15,
   "id": "5b2a030b",
   "metadata": {},
   "outputs": [
    {
     "data": {
      "text/html": [
       "<div>\n",
       "<style scoped>\n",
       "    .dataframe tbody tr th:only-of-type {\n",
       "        vertical-align: middle;\n",
       "    }\n",
       "\n",
       "    .dataframe tbody tr th {\n",
       "        vertical-align: top;\n",
       "    }\n",
       "\n",
       "    .dataframe thead th {\n",
       "        text-align: right;\n",
       "    }\n",
       "</style>\n",
       "<table border=\"1\" class=\"dataframe\">\n",
       "  <thead>\n",
       "    <tr style=\"text-align: right;\">\n",
       "      <th></th>\n",
       "      <th>state</th>\n",
       "      <th>totalprod</th>\n",
       "      <th>yieldpercol</th>\n",
       "    </tr>\n",
       "  </thead>\n",
       "  <tbody>\n",
       "    <tr>\n",
       "      <th>23</th>\n",
       "      <td>ND</td>\n",
       "      <td>475085000.0</td>\n",
       "      <td>1321</td>\n",
       "    </tr>\n",
       "    <tr>\n",
       "      <th>3</th>\n",
       "      <td>CA</td>\n",
       "      <td>347535000.0</td>\n",
       "      <td>837</td>\n",
       "    </tr>\n",
       "    <tr>\n",
       "      <th>34</th>\n",
       "      <td>SD</td>\n",
       "      <td>266141000.0</td>\n",
       "      <td>1137</td>\n",
       "    </tr>\n",
       "    <tr>\n",
       "      <th>5</th>\n",
       "      <td>FL</td>\n",
       "      <td>247048000.0</td>\n",
       "      <td>1246</td>\n",
       "    </tr>\n",
       "    <tr>\n",
       "      <th>21</th>\n",
       "      <td>MT</td>\n",
       "      <td>156562000.0</td>\n",
       "      <td>1160</td>\n",
       "    </tr>\n",
       "  </tbody>\n",
       "</table>\n",
       "</div>"
      ],
      "text/plain": [
       "   state    totalprod  yieldpercol\n",
       "23    ND  475085000.0         1321\n",
       "3     CA  347535000.0          837\n",
       "34    SD  266141000.0         1137\n",
       "5     FL  247048000.0         1246\n",
       "21    MT  156562000.0         1160"
      ]
     },
     "execution_count": 15,
     "metadata": {},
     "output_type": "execute_result"
    }
   ],
   "source": [
    "# Group the dataset by states and using sum method to get the total honey production value in descending order\n",
    "\n",
    "US_state = hp[['state','totalprod','yieldpercol']].groupby('state').sum()\n",
    "US_state.reset_index(level=0,inplace=True)\n",
    "US_state.sort_values(by='totalprod',ascending=False,inplace=True)\n",
    "US_state.head()"
   ]
  },
  {
   "cell_type": "code",
   "execution_count": 16,
   "id": "cc21b177",
   "metadata": {},
   "outputs": [
    {
     "data": {
      "text/plain": [
       "Text(0, 0.5, 'Total Production of honey in USA')"
      ]
     },
     "execution_count": 16,
     "metadata": {},
     "output_type": "execute_result"
    },
    {
     "data": {
      "image/png": "[encoded data removed]",
      "text/plain": [
       "<Figure size 1440x504 with 1 Axes>"
      ]
     },
     "metadata": {
      "needs_background": "light"
     },
     "output_type": "display_data"
    }
   ],
   "source": [
    "#Creating a Bar chart to visualize the total honey production by states.\n",
    "\n",
    "plt.figure(figsize=(20,7))\n",
    "sns.barplot(x = US_state['state'],y = US_state['totalprod'] )\n",
    "plt.title('Statewise Total Honey Production in USA',fontsize = 30)\n",
    "plt.xlabel('States',fontsize=20)\n",
    "plt.ylabel('Total Production of honey in USA',fontsize=20)"
   ]
  },
  {
   "cell_type": "code",
   "execution_count": 17,
   "id": "64bc77dd",
   "metadata": {},
   "outputs": [
    {
     "data": {
      "text/html": [
       "<div>\n",
       "<style scoped>\n",
       "    .dataframe tbody tr th:only-of-type {\n",
       "        vertical-align: middle;\n",
       "    }\n",
       "\n",
       "    .dataframe tbody tr th {\n",
       "        vertical-align: top;\n",
       "    }\n",
       "\n",
       "    .dataframe thead th {\n",
       "        text-align: right;\n",
       "    }\n",
       "</style>\n",
       "<table border=\"1\" class=\"dataframe\">\n",
       "  <thead>\n",
       "    <tr style=\"text-align: right;\">\n",
       "      <th></th>\n",
       "      <th>States</th>\n",
       "      <th>Max Prod</th>\n",
       "    </tr>\n",
       "  </thead>\n",
       "  <tbody>\n",
       "    <tr>\n",
       "      <th>0</th>\n",
       "      <td>AL</td>\n",
       "      <td>1248000.0</td>\n",
       "    </tr>\n",
       "    <tr>\n",
       "      <th>1</th>\n",
       "      <td>AR</td>\n",
       "      <td>4900000.0</td>\n",
       "    </tr>\n",
       "    <tr>\n",
       "      <th>2</th>\n",
       "      <td>AZ</td>\n",
       "      <td>3300000.0</td>\n",
       "    </tr>\n",
       "    <tr>\n",
       "      <th>3</th>\n",
       "      <td>CA</td>\n",
       "      <td>37350000.0</td>\n",
       "    </tr>\n",
       "    <tr>\n",
       "      <th>4</th>\n",
       "      <td>CO</td>\n",
       "      <td>2700000.0</td>\n",
       "    </tr>\n",
       "  </tbody>\n",
       "</table>\n",
       "</div>"
      ],
      "text/plain": [
       "  States    Max Prod\n",
       "0     AL   1248000.0\n",
       "1     AR   4900000.0\n",
       "2     AZ   3300000.0\n",
       "3     CA  37350000.0\n",
       "4     CO   2700000.0"
      ]
     },
     "execution_count": 17,
     "metadata": {},
     "output_type": "execute_result"
    }
   ],
   "source": [
    "# Creating a table to find out maximum production value from the states\n",
    "US_state_max = hp[['state','totalprod']].groupby('state').max()\n",
    "US_state_max.reset_index(inplace=True)\n",
    "US_state_max.columns  = ['States','Max Prod']\n",
    "US_state_max.head()"
   ]
  },
  {
   "cell_type": "code",
   "execution_count": 18,
   "id": "bcd17459",
   "metadata": {},
   "outputs": [
    {
     "data": {
      "text/html": [
       "<div>\n",
       "<style scoped>\n",
       "    .dataframe tbody tr th:only-of-type {\n",
       "        vertical-align: middle;\n",
       "    }\n",
       "\n",
       "    .dataframe tbody tr th {\n",
       "        vertical-align: top;\n",
       "    }\n",
       "\n",
       "    .dataframe thead th {\n",
       "        text-align: right;\n",
       "    }\n",
       "</style>\n",
       "<table border=\"1\" class=\"dataframe\">\n",
       "  <thead>\n",
       "    <tr style=\"text-align: right;\">\n",
       "      <th></th>\n",
       "      <th>States</th>\n",
       "      <th>Min Prod</th>\n",
       "    </tr>\n",
       "  </thead>\n",
       "  <tbody>\n",
       "    <tr>\n",
       "      <th>0</th>\n",
       "      <td>AL</td>\n",
       "      <td>432000.0</td>\n",
       "    </tr>\n",
       "    <tr>\n",
       "      <th>1</th>\n",
       "      <td>AR</td>\n",
       "      <td>1368000.0</td>\n",
       "    </tr>\n",
       "    <tr>\n",
       "      <th>2</th>\n",
       "      <td>AZ</td>\n",
       "      <td>1012000.0</td>\n",
       "    </tr>\n",
       "    <tr>\n",
       "      <th>3</th>\n",
       "      <td>CA</td>\n",
       "      <td>11550000.0</td>\n",
       "    </tr>\n",
       "    <tr>\n",
       "      <th>4</th>\n",
       "      <td>CO</td>\n",
       "      <td>1200000.0</td>\n",
       "    </tr>\n",
       "  </tbody>\n",
       "</table>\n",
       "</div>"
      ],
      "text/plain": [
       "  States    Min Prod\n",
       "0     AL    432000.0\n",
       "1     AR   1368000.0\n",
       "2     AZ   1012000.0\n",
       "3     CA  11550000.0\n",
       "4     CO   1200000.0"
      ]
     },
     "execution_count": 18,
     "metadata": {},
     "output_type": "execute_result"
    }
   ],
   "source": [
    "# Creating a table to find out minimum production value from the states\n",
    "US_state_min = hp[['state','totalprod']].groupby('state').min()\n",
    "US_state_min.reset_index(inplace=True)\n",
    "US_state_min.columns  = ['States','Min Prod']\n",
    "US_state_min.head()"
   ]
  },
  {
   "cell_type": "code",
   "execution_count": 19,
   "id": "45ad7b49",
   "metadata": {},
   "outputs": [
    {
     "data": {
      "text/html": [
       "<div>\n",
       "<style scoped>\n",
       "    .dataframe tbody tr th:only-of-type {\n",
       "        vertical-align: middle;\n",
       "    }\n",
       "\n",
       "    .dataframe tbody tr th {\n",
       "        vertical-align: top;\n",
       "    }\n",
       "\n",
       "    .dataframe thead th {\n",
       "        text-align: right;\n",
       "    }\n",
       "</style>\n",
       "<table border=\"1\" class=\"dataframe\">\n",
       "  <thead>\n",
       "    <tr style=\"text-align: right;\">\n",
       "      <th></th>\n",
       "      <th>States</th>\n",
       "      <th>Max Prod</th>\n",
       "      <th>Min Prod</th>\n",
       "    </tr>\n",
       "  </thead>\n",
       "  <tbody>\n",
       "    <tr>\n",
       "      <th>0</th>\n",
       "      <td>AL</td>\n",
       "      <td>1248000.0</td>\n",
       "      <td>432000.0</td>\n",
       "    </tr>\n",
       "    <tr>\n",
       "      <th>1</th>\n",
       "      <td>AR</td>\n",
       "      <td>4900000.0</td>\n",
       "      <td>1368000.0</td>\n",
       "    </tr>\n",
       "    <tr>\n",
       "      <th>2</th>\n",
       "      <td>AZ</td>\n",
       "      <td>3300000.0</td>\n",
       "      <td>1012000.0</td>\n",
       "    </tr>\n",
       "    <tr>\n",
       "      <th>3</th>\n",
       "      <td>CA</td>\n",
       "      <td>37350000.0</td>\n",
       "      <td>11550000.0</td>\n",
       "    </tr>\n",
       "    <tr>\n",
       "      <th>4</th>\n",
       "      <td>CO</td>\n",
       "      <td>2700000.0</td>\n",
       "      <td>1200000.0</td>\n",
       "    </tr>\n",
       "  </tbody>\n",
       "</table>\n",
       "</div>"
      ],
      "text/plain": [
       "  States    Max Prod    Min Prod\n",
       "0     AL   1248000.0    432000.0\n",
       "1     AR   4900000.0   1368000.0\n",
       "2     AZ   3300000.0   1012000.0\n",
       "3     CA  37350000.0  11550000.0\n",
       "4     CO   2700000.0   1200000.0"
      ]
     },
     "execution_count": 19,
     "metadata": {},
     "output_type": "execute_result"
    }
   ],
   "source": [
    "# Merging the Max and Min Prod variable to find out range\n",
    "\n",
    "st_range = pd.merge(US_state_max, US_state_min,how='inner',on = 'States')\n",
    "st_range.head()"
   ]
  },
  {
   "cell_type": "code",
   "execution_count": 20,
   "id": "18a637b1",
   "metadata": {},
   "outputs": [
    {
     "data": {
      "text/html": [
       "<div>\n",
       "<style scoped>\n",
       "    .dataframe tbody tr th:only-of-type {\n",
       "        vertical-align: middle;\n",
       "    }\n",
       "\n",
       "    .dataframe tbody tr th {\n",
       "        vertical-align: top;\n",
       "    }\n",
       "\n",
       "    .dataframe thead th {\n",
       "        text-align: right;\n",
       "    }\n",
       "</style>\n",
       "<table border=\"1\" class=\"dataframe\">\n",
       "  <thead>\n",
       "    <tr style=\"text-align: right;\">\n",
       "      <th></th>\n",
       "      <th>States</th>\n",
       "      <th>Max Prod</th>\n",
       "      <th>Min Prod</th>\n",
       "      <th>Per_Change</th>\n",
       "    </tr>\n",
       "  </thead>\n",
       "  <tbody>\n",
       "    <tr>\n",
       "      <th>19</th>\n",
       "      <td>MO</td>\n",
       "      <td>1725000.0</td>\n",
       "      <td>344000.0</td>\n",
       "      <td>80.057971</td>\n",
       "    </tr>\n",
       "    <tr>\n",
       "      <th>26</th>\n",
       "      <td>NM</td>\n",
       "      <td>960000.0</td>\n",
       "      <td>246000.0</td>\n",
       "      <td>74.375000</td>\n",
       "    </tr>\n",
       "    <tr>\n",
       "      <th>16</th>\n",
       "      <td>ME</td>\n",
       "      <td>451000.0</td>\n",
       "      <td>120000.0</td>\n",
       "      <td>73.392461</td>\n",
       "    </tr>\n",
       "    <tr>\n",
       "      <th>15</th>\n",
       "      <td>MD</td>\n",
       "      <td>308000.0</td>\n",
       "      <td>84000.0</td>\n",
       "      <td>72.727273</td>\n",
       "    </tr>\n",
       "    <tr>\n",
       "      <th>12</th>\n",
       "      <td>KS</td>\n",
       "      <td>1120000.0</td>\n",
       "      <td>308000.0</td>\n",
       "      <td>72.500000</td>\n",
       "    </tr>\n",
       "  </tbody>\n",
       "</table>\n",
       "</div>"
      ],
      "text/plain": [
       "   States   Max Prod  Min Prod  Per_Change\n",
       "19     MO  1725000.0  344000.0   80.057971\n",
       "26     NM   960000.0  246000.0   74.375000\n",
       "16     ME   451000.0  120000.0   73.392461\n",
       "15     MD   308000.0   84000.0   72.727273\n",
       "12     KS  1120000.0  308000.0   72.500000"
      ]
     },
     "execution_count": 20,
     "metadata": {},
     "output_type": "execute_result"
    }
   ],
   "source": [
    "#Create a Percentage change column in the st_range dataset to understand the honey production change by state\n",
    "\n",
    "st_range['Per_Change'] = ((st_range['Max Prod']-st_range['Min Prod'])/st_range['Max Prod']) * 100\n",
    "st_range.sort_values(by = 'Per_Change',ascending = False, inplace=True)\n",
    "st_range.head()"
   ]
  },
  {
   "cell_type": "code",
   "execution_count": 21,
   "id": "3b0384eb",
   "metadata": {},
   "outputs": [
    {
     "data": {
      "text/plain": [
       "Text(0, 0.5, '% Decline')"
      ]
     },
     "execution_count": 21,
     "metadata": {},
     "output_type": "execute_result"
    },
    {
     "data": {
      "image/png": "[encoded data removed]",
      "text/plain": [
       "<Figure size 1440x504 with 1 Axes>"
      ]
     },
     "metadata": {
      "needs_background": "light"
     },
     "output_type": "display_data"
    }
   ],
   "source": [
    "# Create a bar chart to visualize state wise declined trend\n",
    "\n",
    "plt.figure(figsize=(20,7))\n",
    "sns.barplot(x = 'States', y = 'Per_Change',data=st_range)\n",
    "plt.title('Statewise Production Decline Trend', fontsize=30)\n",
    "plt.xlabel('States',fontsize=20)\n",
    "plt.ylabel('% Decline',fontsize=20)"
   ]
  },
  {
   "cell_type": "code",
   "execution_count": 22,
   "id": "0687bd3e",
   "metadata": {},
   "outputs": [
    {
     "data": {
      "text/html": [
       "<div>\n",
       "<style scoped>\n",
       "    .dataframe tbody tr th:only-of-type {\n",
       "        vertical-align: middle;\n",
       "    }\n",
       "\n",
       "    .dataframe tbody tr th {\n",
       "        vertical-align: top;\n",
       "    }\n",
       "\n",
       "    .dataframe thead th {\n",
       "        text-align: right;\n",
       "    }\n",
       "</style>\n",
       "<table border=\"1\" class=\"dataframe\">\n",
       "  <thead>\n",
       "    <tr style=\"text-align: right;\">\n",
       "      <th></th>\n",
       "      <th>numcol</th>\n",
       "      <th>totalprod</th>\n",
       "      <th>year</th>\n",
       "      <th>yieldpercol</th>\n",
       "      <th>stocks</th>\n",
       "      <th>prodvalue</th>\n",
       "    </tr>\n",
       "  </thead>\n",
       "  <tbody>\n",
       "    <tr>\n",
       "      <th>numcol</th>\n",
       "      <td>1.000000</td>\n",
       "      <td>0.953594</td>\n",
       "      <td>0.008709</td>\n",
       "      <td>0.243515</td>\n",
       "      <td>0.825929</td>\n",
       "      <td>0.912796</td>\n",
       "    </tr>\n",
       "    <tr>\n",
       "      <th>totalprod</th>\n",
       "      <td>0.953594</td>\n",
       "      <td>1.000000</td>\n",
       "      <td>-0.055556</td>\n",
       "      <td>0.396252</td>\n",
       "      <td>0.878830</td>\n",
       "      <td>0.907236</td>\n",
       "    </tr>\n",
       "    <tr>\n",
       "      <th>year</th>\n",
       "      <td>0.008709</td>\n",
       "      <td>-0.055556</td>\n",
       "      <td>1.000000</td>\n",
       "      <td>-0.232092</td>\n",
       "      <td>-0.119602</td>\n",
       "      <td>0.139451</td>\n",
       "    </tr>\n",
       "    <tr>\n",
       "      <th>yieldpercol</th>\n",
       "      <td>0.243515</td>\n",
       "      <td>0.396252</td>\n",
       "      <td>-0.232092</td>\n",
       "      <td>1.000000</td>\n",
       "      <td>0.367812</td>\n",
       "      <td>0.278977</td>\n",
       "    </tr>\n",
       "    <tr>\n",
       "      <th>stocks</th>\n",
       "      <td>0.825929</td>\n",
       "      <td>0.878830</td>\n",
       "      <td>-0.119602</td>\n",
       "      <td>0.367812</td>\n",
       "      <td>1.000000</td>\n",
       "      <td>0.728560</td>\n",
       "    </tr>\n",
       "    <tr>\n",
       "      <th>prodvalue</th>\n",
       "      <td>0.912796</td>\n",
       "      <td>0.907236</td>\n",
       "      <td>0.139451</td>\n",
       "      <td>0.278977</td>\n",
       "      <td>0.728560</td>\n",
       "      <td>1.000000</td>\n",
       "    </tr>\n",
       "  </tbody>\n",
       "</table>\n",
       "</div>"
      ],
      "text/plain": [
       "               numcol  totalprod      year  yieldpercol    stocks  prodvalue\n",
       "numcol       1.000000   0.953594  0.008709     0.243515  0.825929   0.912796\n",
       "totalprod    0.953594   1.000000 -0.055556     0.396252  0.878830   0.907236\n",
       "year         0.008709  -0.055556  1.000000    -0.232092 -0.119602   0.139451\n",
       "yieldpercol  0.243515   0.396252 -0.232092     1.000000  0.367812   0.278977\n",
       "stocks       0.825929   0.878830 -0.119602     0.367812  1.000000   0.728560\n",
       "prodvalue    0.912796   0.907236  0.139451     0.278977  0.728560   1.000000"
      ]
     },
     "execution_count": 22,
     "metadata": {},
     "output_type": "execute_result"
    }
   ],
   "source": [
    "# Checking the correlation between the variables\n",
    "\n",
    "honey_corr = hp[['numcol','totalprod','year','yieldpercol','stocks','prodvalue']].corr()\n",
    "\n",
    "honey_corr"
   ]
  },
  {
   "cell_type": "code",
   "execution_count": 23,
   "id": "7ec2b503",
   "metadata": {},
   "outputs": [
    {
     "data": {
      "text/plain": [
       "<AxesSubplot:>"
      ]
     },
     "execution_count": 23,
     "metadata": {},
     "output_type": "execute_result"
    },
    {
     "data": {
      "image/png": "[encoded data removed]",
      "text/plain": [
       "<Figure size 432x288 with 2 Axes>"
      ]
     },
     "metadata": {
      "needs_background": "light"
     },
     "output_type": "display_data"
    }
   ],
   "source": [
    "# Visualizing the same in the heatmap\n",
    "\n",
    "sns.heatmap(honey_corr,annot = True,vmin = -1,vmax = 1,cmap=\"rainbow\")"
   ]
  },
  {
   "cell_type": "code",
   "execution_count": 24,
   "id": "043c4093",
   "metadata": {},
   "outputs": [
    {
     "data": {
      "text/plain": [
       "<seaborn.axisgrid.FacetGrid at 0x178acd78e80>"
      ]
     },
     "execution_count": 24,
     "metadata": {},
     "output_type": "execute_result"
    },
    {
     "data": {
      "image/png": "[encoded data removed]",
      "text/plain": [
       "<Figure size 421.5x360 with 1 Axes>"
      ]
     },
     "metadata": {
      "needs_background": "light"
     },
     "output_type": "display_data"
    }
   ],
   "source": [
    "# Checking hypothesis: More the no. of colonies,higher the production value\n",
    "\n",
    "sns.lmplot(x = 'numcol', y = 'prodvalue',data = hp, hue='year')"
   ]
  },
  {
   "cell_type": "markdown",
   "id": "93cdf0d0",
   "metadata": {},
   "source": [
    "## Linear Regression Model:"
   ]
  },
  {
   "cell_type": "code",
   "execution_count": 25,
   "id": "059f7598",
   "metadata": {},
   "outputs": [],
   "source": [
    "from sklearn.linear_model import LinearRegression\n",
    "from sklearn.model_selection import train_test_split"
   ]
  },
  {
   "cell_type": "code",
   "execution_count": 26,
   "id": "1dbd3324",
   "metadata": {},
   "outputs": [],
   "source": [
    "x_train, x_test, y_train, y_test = train_test_split(hp.drop(['totalprod','state'],axis=1),\n",
    "                                                    hp['totalprod'],test_size=0.20,\n",
    "                                                    random_state=8)"
   ]
  },
  {
   "cell_type": "code",
   "execution_count": 27,
   "id": "adb29410",
   "metadata": {},
   "outputs": [
    {
     "data": {
      "text/plain": [
       "LinearRegression()"
      ]
     },
     "execution_count": 27,
     "metadata": {},
     "output_type": "execute_result"
    }
   ],
   "source": [
    "model = LinearRegression()\n",
    "model.fit(x_train,y_train)"
   ]
  },
  {
   "cell_type": "code",
   "execution_count": 28,
   "id": "cea5c873",
   "metadata": {},
   "outputs": [
    {
     "name": "stdout",
     "output_type": "stream",
     "text": [
      "95.25114307256163 %\n"
     ]
    }
   ],
   "source": [
    "accuracy = model.score(x_test,y_test)\n",
    "print(accuracy*100,'%')"
   ]
  },
  {
   "cell_type": "code",
   "execution_count": null,
   "id": "b36d6f96",
   "metadata": {},
   "outputs": [],
   "source": []
  }
 ],
 "metadata": {
  "kernelspec": {
   "display_name": "Python 3 (ipykernel)",
   "language": "python",
   "name": "python3"
  },
  "language_info": {
   "codemirror_mode": {
    "name": "ipython",
    "version": 3
   },
   "file_extension": ".py",
   "mimetype": "text/x-python",
   "name": "python",
   "nbconvert_exporter": "python",
   "pygments_lexer": "ipython3",
   "version": "3.9.7"
  }
 },
 "nbformat": 4,
 "nbformat_minor": 5
}
